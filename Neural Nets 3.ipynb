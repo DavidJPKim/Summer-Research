{
 "cells": [
  {
   "cell_type": "code",
   "execution_count": 1,
   "metadata": {},
   "outputs": [],
   "source": [
    "from __future__ import absolute_import, division, print_function, unicode_literals\n",
    "\n",
    "import tensorflow as tf\n",
    "from tensorflow import keras\n",
    "#import tensorflow_hub as hub\n",
    "from tensorflow.keras.layers import Dense, Dropout, Activation, Flatten, Conv2D, MaxPooling2D\n",
    "from tensorflow.keras.models import Sequential\n",
    "import pickle\n",
    "\n",
    "import numpy as np\n",
    "import pandas as pd\n",
    "import matplotlib.pyplot as plt\n",
    "import os\n",
    "import cv2"
   ]
  },
  {
   "cell_type": "markdown",
   "metadata": {},
   "source": [
    "## Load in Testing1 Data"
   ]
  },
  {
   "cell_type": "code",
   "execution_count": 58,
   "metadata": {},
   "outputs": [
    {
     "ename": "MemoryError",
     "evalue": "",
     "output_type": "error",
     "traceback": [
      "\u001b[1;31m---------------------------------------------------------------------------\u001b[0m",
      "\u001b[1;31mMemoryError\u001b[0m                               Traceback (most recent call last)",
      "\u001b[1;32m<ipython-input-58-fef589d61b7d>\u001b[0m in \u001b[0;36m<module>\u001b[1;34m\u001b[0m\n\u001b[0;32m      1\u001b[0m \u001b[0mpickle_in\u001b[0m \u001b[1;33m=\u001b[0m \u001b[0mopen\u001b[0m\u001b[1;33m(\u001b[0m\u001b[1;34m\"testing_images1_20CAT.pickle\"\u001b[0m\u001b[1;33m,\u001b[0m \u001b[1;34m'rb'\u001b[0m\u001b[1;33m)\u001b[0m\u001b[1;33m\u001b[0m\u001b[1;33m\u001b[0m\u001b[0m\n\u001b[1;32m----> 2\u001b[1;33m \u001b[0mX_test1\u001b[0m \u001b[1;33m=\u001b[0m \u001b[0mpickle\u001b[0m\u001b[1;33m.\u001b[0m\u001b[0mload\u001b[0m\u001b[1;33m(\u001b[0m\u001b[0mpickle_in\u001b[0m\u001b[1;33m)\u001b[0m\u001b[1;33m\u001b[0m\u001b[1;33m\u001b[0m\u001b[0m\n\u001b[0m\u001b[0;32m      3\u001b[0m \u001b[1;33m\u001b[0m\u001b[0m\n\u001b[0;32m      4\u001b[0m \u001b[0mpickle_in\u001b[0m \u001b[1;33m=\u001b[0m \u001b[0mopen\u001b[0m\u001b[1;33m(\u001b[0m\u001b[1;34m\"testing_labels1_20CAT.pickle\"\u001b[0m\u001b[1;33m,\u001b[0m \u001b[1;34m'rb'\u001b[0m\u001b[1;33m)\u001b[0m\u001b[1;33m\u001b[0m\u001b[1;33m\u001b[0m\u001b[0m\n\u001b[0;32m      5\u001b[0m \u001b[0my_test1\u001b[0m \u001b[1;33m=\u001b[0m \u001b[0mpickle\u001b[0m\u001b[1;33m.\u001b[0m\u001b[0mload\u001b[0m\u001b[1;33m(\u001b[0m\u001b[0mpickle_in\u001b[0m\u001b[1;33m)\u001b[0m\u001b[1;33m\u001b[0m\u001b[1;33m\u001b[0m\u001b[0m\n",
      "\u001b[1;31mMemoryError\u001b[0m: "
     ]
    }
   ],
   "source": [
    "pickle_in = open(\"testing_images1_20CAT.pickle\", 'rb')\n",
    "X_test1 = pickle.load(pickle_in)\n",
    "\n",
    "pickle_in = open(\"testing_labels1_20CAT.pickle\", 'rb')\n",
    "y_test1 = pickle.load(pickle_in)"
   ]
  },
  {
   "cell_type": "code",
   "execution_count": 9,
   "metadata": {},
   "outputs": [],
   "source": [
    "TestFrames1DIR = 'C://Users/tzhang/Desktop/TestFrames1.1/'\n",
    "CATEGORIES = ['ApplyEyeMakeup', 'ApplyLipstick', 'Archery', 'BabyCrawling', 'BalanceBeam', 'BandMarching', 'BaseballPitch', 'Basketball', 'BasketballDunk', 'BenchPress', 'Biking', 'Billiards', 'BlowDryHair', 'BlowingCandles', 'BodyWeightSquats', 'Bowling', 'BoxingPunchingBag', 'BoxingSpeedBag', 'Breaststroke', 'BrushingTeeth', 'CleanandJerk', 'CliffDiving', 'CricketBowling', 'CricketShot', 'CuttingInKitchen', 'Diving', 'Drumming', 'Fencing', 'FieldHockeyPenalty', 'FloorGymnastics', 'FrisbeeCatch', 'FrontCrawl', 'GolfSwing', 'Haircut', 'HammerThrow', 'Hammering', 'HandstandPushups', 'HandstandWalking', 'HeadMassage', 'HighJump', 'HorseRace', 'HorseRiding', 'HulaHoop', 'IceDancing', 'JavelinThrow', 'JugglingBalls', 'JumpRope', 'JumpingJack', 'Kayaking', 'Knitting', 'LongJump', 'Lunges', 'MilitaryParade', 'Mixing', 'MoppingFloor', 'Nunchucks', 'ParallelBars', 'PizzaTossing', 'PlayingGuitar', 'PlayingPiano', 'PlayingTabla', 'PlayingViolin', 'PlayingCello', 'PlayingDaf', 'PlayingDhol', 'PlayingFlute', 'PlayingSitar', 'PoleVault', 'PommelHorse', 'PullUps', 'Punch', 'PushUps', 'Rafting', 'RockClimbingIndoor', 'RopeClimbing', 'Rowing', 'SalsaSpin', 'ShavingBeard', 'Shotput', 'SkateBoarding', 'Skiing', 'Skijet', 'SkyDiving', 'SoccerJuggling', 'SoccerPenalty', 'StillRings', 'SumoWrestling', 'Surfing', 'Swing', 'TableTennisShot', 'TaiChi', 'TennisSwing', 'ThrowDiscus', 'TrampolineJumping', 'Typing', 'UnevenBars', 'VolleyballSpiking', 'WalkingWithDog', 'WallPushups', 'WritingOnBoard', 'YoYo']\n"
   ]
  },
  {
   "cell_type": "code",
   "execution_count": 11,
   "metadata": {},
   "outputs": [
    {
     "name": "stdout",
     "output_type": "stream",
     "text": [
      "ApplyEyeMakeup\n",
      "ApplyLipstick\n",
      "Archery\n",
      "BabyCrawling\n",
      "BalanceBeam\n",
      "BandMarching\n",
      "BaseballPitch\n",
      "Basketball\n",
      "BasketballDunk\n",
      "BenchPress\n",
      "Biking\n",
      "Billiards\n",
      "BlowDryHair\n",
      "BlowingCandles\n",
      "BodyWeightSquats\n",
      "Bowling\n",
      "BoxingPunchingBag\n",
      "BoxingSpeedBag\n",
      "Breaststroke\n",
      "BrushingTeeth\n"
     ]
    }
   ],
   "source": [
    "testing_data1 = []\n",
    "catNum = 0\n",
    "count = 0\n",
    "\n",
    "for category in CATEGORIES:\n",
    "    pathCat = os.path.join(TestFrames1DIR, category)\n",
    "    pathVid = TestFrames1DIR + str(category)\n",
    "    \n",
    "    \n",
    "    count+=1\n",
    "    if(count > 20):\n",
    "        break\n",
    "        \n",
    "    print(category)\n",
    "    \n",
    "    for video in os.listdir(pathVid): \n",
    "        pathImg = pathVid + '/' + str(video)\n",
    "        \n",
    "        for img in os.listdir(pathImg):\n",
    "            \n",
    "            img_array = cv2.imread(pathImg + '/' + img)\n",
    "            testing_data1.append([np.array(img_array), catNum]) \n",
    "        \n",
    "    catNum += 1"
   ]
  },
  {
   "cell_type": "code",
   "execution_count": 32,
   "metadata": {},
   "outputs": [
    {
     "name": "stdout",
     "output_type": "stream",
     "text": [
      "(7600, 227, 227, 3)\n"
     ]
    }
   ],
   "source": [
    "X_test1 = []\n",
    "y_test1 = []\n",
    "count = 0\n",
    "\n",
    "for features, label in testing_data1:\n",
    "    X_test1.append(features)\n",
    "    \n",
    "    if(count%20 == 0):#only 20 categories\n",
    "        y_test1.append(label)\n",
    "    count += 1\n",
    "\n",
    "X_test1 = np.array(X_test1)\n",
    "print(X_test1.shape)"
   ]
  },
  {
   "cell_type": "code",
   "execution_count": 33,
   "metadata": {},
   "outputs": [],
   "source": [
    "X_test1 = X_test1/255.0"
   ]
  },
  {
   "cell_type": "code",
   "execution_count": 17,
   "metadata": {},
   "outputs": [],
   "source": [
    "pickle_out = open('testing_images1_20CAT.pickle', 'wb')\n",
    "pickle.dump(X_test1, pickle_out, protocol=4)\n",
    "pickle_out.close()\n",
    "\n",
    "pickle_out = open('testing_labels1_20CAT.pickle', 'wb')\n",
    "pickle.dump(y_test1, pickle_out, protocol=4)\n",
    "pickle_out.close()"
   ]
  },
  {
   "cell_type": "code",
   "execution_count": 34,
   "metadata": {},
   "outputs": [],
   "source": [
    "x0_test1 = []\n",
    "x1_test1 = []\n",
    "x2_test1 = []\n",
    "x3_test1 = []\n",
    "x4_test1 = []\n",
    "x5_test1 = []\n",
    "x6_test1 = []\n",
    "x7_test1 = []\n",
    "x8_test1 = []\n",
    "x9_test1 = []\n",
    "x10_test1 = []\n",
    "x11_test1 = []\n",
    "x12_test1 = []\n",
    "x13_test1 = []\n",
    "x14_test1 = []\n",
    "x15_test1 = []\n",
    "x16_test1 = []\n",
    "x17_test1 = []\n",
    "x18_test1 = []\n",
    "x19_test1 = []\n",
    "\n",
    "\n",
    "for i in range(len(X_test1)):\n",
    "    if(i % 20 == 0):\n",
    "        x0_test1.append(X_test1[i])\n",
    "    elif(i % 20 == 1):\n",
    "        x1_test1.append(X_test1[i])\n",
    "    elif(i % 20 == 2):\n",
    "        x2_test1.append(X_test1[i])\n",
    "    elif(i % 20 == 3):\n",
    "        x3_test1.append(X_test1[i])\n",
    "    elif(i % 20 == 4):\n",
    "        x4_test1.append(X_test1[i])\n",
    "    elif(i % 20 == 5):\n",
    "        x5_test1.append(X_test1[i])\n",
    "    elif(i % 20 == 6):\n",
    "        x6_test1.append(X_test1[i])\n",
    "    elif(i % 20 == 7):\n",
    "        x7_test1.append(X_test1[i])\n",
    "    elif(i % 20 == 8):\n",
    "        x8_test1.append(X_test1[i])\n",
    "    elif(i % 20 == 9):\n",
    "        x9_test1.append(X_test1[i])\n",
    "    elif(i % 20 == 10):\n",
    "        x10_test1.append(X_test1[i])\n",
    "    elif(i % 20 == 11):\n",
    "        x11_test1.append(X_test1[i])\n",
    "    elif(i % 20 == 12):\n",
    "        x12_test1.append(X_test1[i])\n",
    "    elif(i % 20 == 13):\n",
    "        x13_test1.append(X_test1[i])\n",
    "    elif(i % 20 == 14):\n",
    "        x14_test1.append(X_test1[i])\n",
    "    elif(i % 20 == 15):\n",
    "        x15_test1.append(X_test1[i])\n",
    "    elif(i % 20 == 16):\n",
    "        x16_test1.append(X_test1[i])\n",
    "    elif(i % 20 == 17):\n",
    "        x17_test1.append(X_test1[i])\n",
    "    elif(i % 20 == 18):\n",
    "        x18_test1.append(X_test1[i])\n",
    "    elif(i % 20 == 19):\n",
    "        x19_test1.append(X_test1[i])\n",
    "        "
   ]
  },
  {
   "cell_type": "code",
   "execution_count": 7,
   "metadata": {},
   "outputs": [],
   "source": [
    "#X_test1 = None"
   ]
  },
  {
   "cell_type": "code",
   "execution_count": 35,
   "metadata": {},
   "outputs": [],
   "source": [
    "x0_test1 = np.array(x0_test1)\n",
    "x1_test1 = np.array(x1_test1)\n",
    "x2_test1 = np.array(x2_test1)\n",
    "x3_test1 = np.array(x3_test1)\n",
    "x4_test1 = np.array(x4_test1)\n",
    "x5_test1 = np.array(x5_test1)\n",
    "x6_test1 = np.array(x6_test1)\n",
    "x7_test1 = np.array(x7_test1)\n",
    "x8_test1 = np.array(x8_test1)\n",
    "x9_test1 = np.array(x9_test1)\n",
    "x10_test1 = np.array(x10_test1)\n",
    "x11_test1 = np.array(x11_test1)\n",
    "x12_test1 = np.array(x12_test1)\n",
    "x13_test1 = np.array(x13_test1)\n",
    "x14_test1 = np.array(x14_test1)\n",
    "x15_test1 = np.array(x15_test1)\n",
    "x16_test1 = np.array(x16_test1)\n",
    "x17_test1 = np.array(x17_test1)\n",
    "x18_test1 = np.array(x18_test1)\n",
    "x19_test1 = np.array(x19_test1)"
   ]
  },
  {
   "cell_type": "markdown",
   "metadata": {},
   "source": [
    "## Load in Testing2 Data"
   ]
  },
  {
   "cell_type": "code",
   "execution_count": null,
   "metadata": {},
   "outputs": [],
   "source": [
    "pickle_in = open(\"testing_images2_20CAT.pickle\", 'rb')\n",
    "X_test2 = pickle.load(pickle_in)\n",
    "\n",
    "pickle_in = open(\"testing_labels2_20CAT.pickle\", 'rb')\n",
    "y_test2 = pickle.load(pickle_in)"
   ]
  },
  {
   "cell_type": "code",
   "execution_count": 20,
   "metadata": {},
   "outputs": [],
   "source": [
    "TestFrames2DIR = 'C://Users/tzhang/Desktop/TestFrames2.1/'\n",
    "CATEGORIES = ['ApplyEyeMakeup', 'ApplyLipstick', 'Archery', 'BabyCrawling', 'BalanceBeam', 'BandMarching', 'BaseballPitch', 'Basketball', 'BasketballDunk', 'BenchPress', 'Biking', 'Billiards', 'BlowDryHair', 'BlowingCandles', 'BodyWeightSquats', 'Bowling', 'BoxingPunchingBag', 'BoxingSpeedBag', 'Breaststroke', 'BrushingTeeth', 'CleanandJerk', 'CliffDiving', 'CricketBowling', 'CricketShot', 'CuttingInKitchen', 'Diving', 'Drumming', 'Fencing', 'FieldHockeyPenalty', 'FloorGymnastics', 'FrisbeeCatch', 'FrontCrawl', 'GolfSwing', 'Haircut', 'HammerThrow', 'Hammering', 'HandstandPushups', 'HandstandWalking', 'HeadMassage', 'HighJump', 'HorseRace', 'HorseRiding', 'HulaHoop', 'IceDancing', 'JavelinThrow', 'JugglingBalls', 'JumpRope', 'JumpingJack', 'Kayaking', 'Knitting', 'LongJump', 'Lunges', 'MilitaryParade', 'Mixing', 'MoppingFloor', 'Nunchucks', 'ParallelBars', 'PizzaTossing', 'PlayingGuitar', 'PlayingPiano', 'PlayingTabla', 'PlayingViolin', 'PlayingCello', 'PlayingDaf', 'PlayingDhol', 'PlayingFlute', 'PlayingSitar', 'PoleVault', 'PommelHorse', 'PullUps', 'Punch', 'PushUps', 'Rafting', 'RockClimbingIndoor', 'RopeClimbing', 'Rowing', 'SalsaSpin', 'ShavingBeard', 'Shotput', 'SkateBoarding', 'Skiing', 'Skijet', 'SkyDiving', 'SoccerJuggling', 'SoccerPenalty', 'StillRings', 'SumoWrestling', 'Surfing', 'Swing', 'TableTennisShot', 'TaiChi', 'TennisSwing', 'ThrowDiscus', 'TrampolineJumping', 'Typing', 'UnevenBars', 'VolleyballSpiking', 'WalkingWithDog', 'WallPushups', 'WritingOnBoard', 'YoYo']\n"
   ]
  },
  {
   "cell_type": "code",
   "execution_count": 21,
   "metadata": {},
   "outputs": [
    {
     "name": "stdout",
     "output_type": "stream",
     "text": [
      "ApplyEyeMakeup\n",
      "ApplyLipstick\n",
      "Archery\n",
      "BabyCrawling\n",
      "BalanceBeam\n",
      "BandMarching\n",
      "BaseballPitch\n",
      "Basketball\n",
      "BasketballDunk\n",
      "BenchPress\n",
      "Biking\n",
      "Billiards\n",
      "BlowDryHair\n",
      "BlowingCandles\n",
      "BodyWeightSquats\n",
      "Bowling\n",
      "BoxingPunchingBag\n",
      "BoxingSpeedBag\n",
      "Breaststroke\n",
      "BrushingTeeth\n"
     ]
    }
   ],
   "source": [
    "testing_data2 = []\n",
    "catNum = 0\n",
    "count = 0\n",
    "\n",
    "for category in CATEGORIES:\n",
    "    pathCat = os.path.join(TestFrames2DIR, category)\n",
    "    pathVid = TestFrames2DIR + str(category)\n",
    "    \n",
    "    \n",
    "    count+=1\n",
    "    if(count > 20):#only 20 categories\n",
    "        break\n",
    "        \n",
    "    print(category)\n",
    "    \n",
    "    for video in os.listdir(pathVid): \n",
    "        pathImg = pathVid + '/' + str(video)\n",
    "        \n",
    "        for img in os.listdir(pathImg):\n",
    "            \n",
    "            img_array = cv2.imread(pathImg + '/' + img)\n",
    "            testing_data2.append([np.array(img_array), catNum]) \n",
    "        \n",
    "    catNum += 1"
   ]
  },
  {
   "cell_type": "code",
   "execution_count": 36,
   "metadata": {},
   "outputs": [
    {
     "name": "stdout",
     "output_type": "stream",
     "text": [
      "(7400, 227, 227, 3)\n"
     ]
    }
   ],
   "source": [
    "X_test2 = []\n",
    "y_test2 = []\n",
    "count = 0\n",
    "\n",
    "for features, label in testing_data2:\n",
    "    X_test2.append(features)\n",
    "    \n",
    "    if(count%20 == 0):\n",
    "        y_test2.append(label)\n",
    "    count += 1\n",
    "\n",
    "X_test2 = np.array(X_test2)\n",
    "print(X_test2.shape)"
   ]
  },
  {
   "cell_type": "code",
   "execution_count": 23,
   "metadata": {},
   "outputs": [],
   "source": [
    "X_test2 = X_test2/255.0"
   ]
  },
  {
   "cell_type": "code",
   "execution_count": 24,
   "metadata": {},
   "outputs": [],
   "source": [
    "pickle_out = open('testing_images2_20CAT.pickle', 'wb')\n",
    "pickle.dump(X_test2, pickle_out, protocol=4)\n",
    "pickle_out.close()\n",
    "\n",
    "pickle_out = open('testing_labels2_20CAT.pickle', 'wb')\n",
    "pickle.dump(y_test2, pickle_out, protocol=4)\n",
    "pickle_out.close()"
   ]
  },
  {
   "cell_type": "code",
   "execution_count": 25,
   "metadata": {},
   "outputs": [],
   "source": [
    "x0_test2 = []\n",
    "x1_test2 = []\n",
    "x2_test2 = []\n",
    "x3_test2 = []\n",
    "x4_test2 = []\n",
    "x5_test2 = []\n",
    "x6_test2 = []\n",
    "x7_test2 = []\n",
    "x8_test2 = []\n",
    "x9_test2 = []\n",
    "x10_test2 = []\n",
    "x11_test2 = []\n",
    "x12_test2 = []\n",
    "x13_test2 = []\n",
    "x14_test2 = []\n",
    "x15_test2 = []\n",
    "x16_test2 = []\n",
    "x17_test2 = []\n",
    "x18_test2 = []\n",
    "x19_test2 = []\n",
    "\n",
    "\n",
    "for i in range(len(X_test2)):\n",
    "    if(i % 20 == 0):\n",
    "        x0_test2.append(X_test2[i])\n",
    "    elif(i % 20 == 1):\n",
    "        x1_test2.append(X_test2[i])\n",
    "    elif(i % 20 == 2):\n",
    "        x2_test2.append(X_test2[i])\n",
    "    elif(i % 20 == 3):\n",
    "        x3_test2.append(X_test2[i])\n",
    "    elif(i % 20 == 4):\n",
    "        x4_test2.append(X_test2[i])\n",
    "    elif(i % 20 == 5):\n",
    "        x5_test2.append(X_test2[i])\n",
    "    elif(i % 20 == 6):\n",
    "        x6_test2.append(X_test2[i])\n",
    "    elif(i % 20 == 7):\n",
    "        x7_test2.append(X_test2[i])\n",
    "    elif(i % 20 == 8):\n",
    "        x8_test2.append(X_test2[i])\n",
    "    elif(i % 20 == 9):\n",
    "        x9_test2.append(X_test2[i])\n",
    "    elif(i % 20 == 10):\n",
    "        x10_test2.append(X_test2[i])\n",
    "    elif(i % 20 == 11):\n",
    "        x11_test2.append(X_test2[i])\n",
    "    elif(i % 20 == 12):\n",
    "        x12_test2.append(X_test2[i])\n",
    "    elif(i % 20 == 13):\n",
    "        x13_test2.append(X_test2[i])\n",
    "    elif(i % 20 == 14):\n",
    "        x14_test2.append(X_test2[i])\n",
    "    elif(i % 20 == 15):\n",
    "        x15_test2.append(X_test2[i])\n",
    "    elif(i % 20 == 16):\n",
    "        x16_test2.append(X_test2[i])\n",
    "    elif(i % 20 == 17):\n",
    "        x17_test2.append(X_test2[i])\n",
    "    elif(i % 20 == 18):\n",
    "        x18_test2.append(X_test2[i])\n",
    "    elif(i % 20 == 19):\n",
    "        x19_test2.append(X_test2[i])\n",
    "        "
   ]
  },
  {
   "cell_type": "code",
   "execution_count": 26,
   "metadata": {},
   "outputs": [],
   "source": [
    "x0_test2 = np.array(x0_test2)\n",
    "x1_test2 = np.array(x1_test2)\n",
    "x2_test2 = np.array(x2_test2)\n",
    "x3_test2 = np.array(x3_test2)\n",
    "x4_test2 = np.array(x4_test2)\n",
    "x5_test2 = np.array(x5_test2)\n",
    "x6_test2 = np.array(x6_test2)\n",
    "x7_test2 = np.array(x7_test2)\n",
    "x8_test2 = np.array(x8_test2)\n",
    "x9_test2 = np.array(x9_test2)\n",
    "x10_test2 = np.array(x10_test2)\n",
    "x11_test2 = np.array(x11_test2)\n",
    "x12_test2 = np.array(x12_test2)\n",
    "x13_test2 = np.array(x13_test2)\n",
    "x14_test2 = np.array(x14_test2)\n",
    "x15_test2 = np.array(x15_test2)\n",
    "x16_test2 = np.array(x16_test2)\n",
    "x17_test2 = np.array(x17_test2)\n",
    "x18_test2 = np.array(x18_test2)\n",
    "x19_test2 = np.array(x19_test2)"
   ]
  },
  {
   "cell_type": "markdown",
   "metadata": {},
   "source": [
    "## Load in Testing3 Data\n",
    "## Only have data up to Punch (70/71)"
   ]
  },
  {
   "cell_type": "code",
   "execution_count": null,
   "metadata": {},
   "outputs": [],
   "source": [
    "pickle_in = open(\"testing_images3_20CAT.pickle\", 'rb')\n",
    "X_test3 = pickle.load(pickle_in)\n",
    "\n",
    "pickle_in = open(\"testing_labels3_20CAT.pickle\", 'rb')\n",
    "y_test3 = pickle.load(pickle_in)"
   ]
  },
  {
   "cell_type": "code",
   "execution_count": 50,
   "metadata": {},
   "outputs": [],
   "source": [
    "TestFrames3DIR = 'C://Users/tzhang/Desktop/TestFrames3.1/'\n",
    "CATEGORIES = ['ApplyEyeMakeup', 'ApplyLipstick', 'Archery', 'BabyCrawling', 'BalanceBeam', 'BandMarching', 'BaseballPitch', 'Basketball', 'BasketballDunk', 'BenchPress', 'Biking', 'Billiards', 'BlowDryHair', 'BlowingCandles', 'BodyWeightSquats', 'Bowling', 'BoxingPunchingBag', 'BoxingSpeedBag', 'Breaststroke', 'BrushingTeeth', 'CleanandJerk', 'CliffDiving', 'CricketBowling', 'CricketShot', 'CuttingInKitchen', 'Diving', 'Drumming', 'Fencing', 'FieldHockeyPenalty', 'FloorGymnastics', 'FrisbeeCatch', 'FrontCrawl', 'GolfSwing', 'Haircut', 'HammerThrow', 'Hammering', 'HandstandPushups', 'HandstandWalking', 'HeadMassage', 'HighJump', 'HorseRace', 'HorseRiding', 'HulaHoop', 'IceDancing', 'JavelinThrow', 'JugglingBalls', 'JumpRope', 'JumpingJack', 'Kayaking', 'Knitting', 'LongJump', 'Lunges', 'MilitaryParade', 'Mixing', 'MoppingFloor', 'Nunchucks', 'ParallelBars', 'PizzaTossing', 'PlayingGuitar', 'PlayingPiano', 'PlayingTabla', 'PlayingViolin', 'PlayingCello', 'PlayingDaf', 'PlayingDhol', 'PlayingFlute', 'PlayingSitar', 'PoleVault', 'PommelHorse', 'PullUps', 'Punch', 'PushUps', 'Rafting', 'RockClimbingIndoor', 'RopeClimbing', 'Rowing', 'SalsaSpin', 'ShavingBeard', 'Shotput', 'SkateBoarding', 'Skiing', 'Skijet', 'SkyDiving', 'SoccerJuggling', 'SoccerPenalty', 'StillRings', 'SumoWrestling', 'Surfing', 'Swing', 'TableTennisShot', 'TaiChi', 'TennisSwing', 'ThrowDiscus', 'TrampolineJumping', 'Typing', 'UnevenBars', 'VolleyballSpiking', 'WalkingWithDog', 'WallPushups', 'WritingOnBoard', 'YoYo']\n"
   ]
  },
  {
   "cell_type": "code",
   "execution_count": 51,
   "metadata": {},
   "outputs": [
    {
     "name": "stdout",
     "output_type": "stream",
     "text": [
      "ApplyEyeMakeup\n",
      "ApplyLipstick\n",
      "Archery\n",
      "BabyCrawling\n",
      "BalanceBeam\n",
      "BandMarching\n",
      "BaseballPitch\n",
      "Basketball\n",
      "BasketballDunk\n",
      "BenchPress\n",
      "Biking\n",
      "Billiards\n",
      "BlowDryHair\n",
      "BlowingCandles\n",
      "BodyWeightSquats\n",
      "Bowling\n",
      "BoxingPunchingBag\n",
      "BoxingSpeedBag\n",
      "Breaststroke\n",
      "BrushingTeeth\n"
     ]
    }
   ],
   "source": [
    "testing_data3 = []\n",
    "catNum = 0\n",
    "count = 0\n",
    "\n",
    "for category in CATEGORIES:\n",
    "    pathCat = os.path.join(TestFrames3DIR, category)\n",
    "    pathVid = TestFrames2DIR + str(category)\n",
    "    \n",
    "    \n",
    "    count+=1\n",
    "    if(count > 20): #only 20 categories\n",
    "        break\n",
    "        \n",
    "    print(category)\n",
    "    \n",
    "    for video in os.listdir(pathVid): \n",
    "        pathImg = pathVid + '/' + str(video)\n",
    "        \n",
    "        for img in os.listdir(pathImg):\n",
    "            \n",
    "            img_array = cv2.imread(pathImg + '/' + img)\n",
    "            testing_data3.append([np.array(img_array), catNum]) \n",
    "        \n",
    "    catNum += 1"
   ]
  },
  {
   "cell_type": "code",
   "execution_count": 52,
   "metadata": {},
   "outputs": [
    {
     "name": "stdout",
     "output_type": "stream",
     "text": [
      "(7400, 227, 227, 3)\n"
     ]
    }
   ],
   "source": [
    "X_test3 = []\n",
    "y_test3 = []\n",
    "count = 0\n",
    "\n",
    "for features, label in testing_data2:\n",
    "    X_test3.append(features)\n",
    "    \n",
    "    if(count%20 == 0):\n",
    "        y_test3.append(label)\n",
    "    count += 1\n",
    "\n",
    "X_test3 = np.array(X_test3)\n",
    "print(X_test3.shape)"
   ]
  },
  {
   "cell_type": "code",
   "execution_count": 53,
   "metadata": {},
   "outputs": [],
   "source": [
    "X_test3 = X_test3/255.0"
   ]
  },
  {
   "cell_type": "code",
   "execution_count": 54,
   "metadata": {},
   "outputs": [],
   "source": [
    "pickle_out = open('testing_images3_20CAT.pickle', 'wb')\n",
    "pickle.dump(X_test3, pickle_out, protocol=4)\n",
    "pickle_out.close()\n",
    "\n",
    "pickle_out = open('testing_labels3_20CAT.pickle', 'wb')\n",
    "pickle.dump(y_test3, pickle_out, protocol=4)\n",
    "pickle_out.close()"
   ]
  },
  {
   "cell_type": "code",
   "execution_count": 55,
   "metadata": {},
   "outputs": [],
   "source": [
    "x0_test3 = []\n",
    "x1_test3 = []\n",
    "x2_test3 = []\n",
    "x3_test3 = []\n",
    "x4_test3 = []\n",
    "x5_test3 = []\n",
    "x6_test3 = []\n",
    "x7_test3 = []\n",
    "x8_test3 = []\n",
    "x9_test3 = []\n",
    "x10_test3 = []\n",
    "x11_test3 = []\n",
    "x12_test3 = []\n",
    "x13_test3 = []\n",
    "x14_test3 = []\n",
    "x15_test3 = []\n",
    "x16_test3 = []\n",
    "x17_test3 = []\n",
    "x18_test3 = []\n",
    "x19_test3 = []\n",
    "\n",
    "\n",
    "for i in range(len(X_test3)):\n",
    "    if(i % 20 == 0):\n",
    "        x0_test3.append(X_test3[i])\n",
    "    elif(i % 20 == 1):\n",
    "        x1_test3.append(X_test3[i])\n",
    "    elif(i % 20 == 2):\n",
    "        x2_test3.append(X_test3[i])\n",
    "    elif(i % 20 == 3):\n",
    "        x3_test3.append(X_test3[i])\n",
    "    elif(i % 20 == 4):\n",
    "        x4_test3.append(X_test3[i])\n",
    "    elif(i % 20 == 5):\n",
    "        x5_test3.append(X_test3[i])\n",
    "    elif(i % 20 == 6):\n",
    "        x6_test3.append(X_test3[i])\n",
    "    elif(i % 20 == 7):\n",
    "        x7_test3.append(X_test3[i])\n",
    "    elif(i % 20 == 8):\n",
    "        x8_test3.append(X_test3[i])\n",
    "    elif(i % 20 == 9):\n",
    "        x9_test3.append(X_test3[i])\n",
    "    elif(i % 20 == 10):\n",
    "        x10_test3.append(X_test3[i])\n",
    "    elif(i % 20 == 11):\n",
    "        x11_test3.append(X_test3[i])\n",
    "    elif(i % 20 == 12):\n",
    "        x12_test3.append(X_test3[i])\n",
    "    elif(i % 20 == 13):\n",
    "        x13_test3.append(X_test3[i])\n",
    "    elif(i % 20 == 14):\n",
    "        x14_test3.append(X_test3[i])\n",
    "    elif(i % 20 == 15):\n",
    "        x15_test3.append(X_test3[i])\n",
    "    elif(i % 20 == 16):\n",
    "        x16_test3.append(X_test3[i])\n",
    "    elif(i % 20 == 17):\n",
    "        x17_test3.append(X_test3[i])\n",
    "    elif(i % 20 == 18):\n",
    "        x18_test3.append(X_test3[i])\n",
    "    elif(i % 20 == 19):\n",
    "        x19_test3.append(X_test3[i])"
   ]
  },
  {
   "cell_type": "code",
   "execution_count": 56,
   "metadata": {},
   "outputs": [],
   "source": [
    "x0_test3 = np.array(x0_test3)\n",
    "x1_test3 = np.array(x1_test3)\n",
    "x2_test3 = np.array(x2_test3)\n",
    "x3_test3 = np.array(x3_test3)\n",
    "x4_test3 = np.array(x4_test3)\n",
    "x5_test3 = np.array(x5_test3)\n",
    "x6_test3 = np.array(x6_test3)\n",
    "x7_test3 = np.array(x7_test3)\n",
    "x8_test3 = np.array(x8_test3)\n",
    "x9_test3 = np.array(x9_test3)\n",
    "x10_test3 = np.array(x10_test3)\n",
    "x11_test3 = np.array(x11_test3)\n",
    "x12_test3 = np.array(x12_test3)\n",
    "x13_test3 = np.array(x13_test3)\n",
    "x14_test3 = np.array(x14_test3)\n",
    "x15_test3 = np.array(x15_test3)\n",
    "x16_test3 = np.array(x16_test3)\n",
    "x17_test3 = np.array(x17_test3)\n",
    "x18_test3 = np.array(x18_test3)\n",
    "x19_test3 = np.array(x19_test3)"
   ]
  },
  {
   "cell_type": "markdown",
   "metadata": {},
   "source": [
    "## The Model"
   ]
  },
  {
   "cell_type": "code",
   "execution_count": 38,
   "metadata": {},
   "outputs": [
    {
     "name": "stdout",
     "output_type": "stream",
     "text": [
      "Tensor(\"input_21:0\", shape=(?, 227, 227, 3), dtype=float32)\n",
      "Tensor(\"conv2d_24/BiasAdd:0\", shape=(?, 55, 55, 96), dtype=float32)\n",
      "Tensor(\"add_1/add_18:0\", shape=(?, 55, 55, 96), dtype=float32)\n"
     ]
    }
   ],
   "source": [
    "from tensorflow import keras\n",
    "from tensorflow.keras import layers\n",
    "\n",
    "inputs = [''] * 20\n",
    "xArray = [None] * 20\n",
    "\n",
    "for i in range(20):\n",
    "  inputs[i] = (keras.Input(shape=(227,227,3)))\n",
    "  xArray[i] = (layers.Conv2D(96, (11,11), strides=(4,4), input_shape = (227,227,3))) (inputs[i])\n",
    "\n",
    "added = layers.Add()(xArray)\n",
    "print(inputs[0])\n",
    "print(xArray[0])\n",
    "print(added)\n",
    "\n",
    "xx = layers.BatchNormalization()(added)\n",
    "\n",
    "xx = layers.MaxPooling2D(pool_size = (3,3), strides=(2,2))(xx)\n",
    "    \n",
    "xx = layers.Conv2D(256, (5,5), strides=(1,1))(xx)\n",
    "xx = layers.BatchNormalization()(xx)\n",
    "xx = layers.MaxPooling2D(pool_size = (3,3), strides=(2,2))(xx)\n",
    "    \n",
    "xx = layers.Conv2D(384, (3,3), strides=(1,1))(xx)\n",
    "xx = layers.Conv2D(384, (3,3), strides=(1,1))(xx)\n",
    "xx = layers.Conv2D(256, (3,3), strides=(1,1))(xx)\n",
    "    \n",
    "xx = layers.MaxPooling2D(pool_size = (3,3), strides=(2,2))(xx)\n",
    "\n",
    "#dropout\n",
    "   \n",
    "xx = layers.Flatten()(xx)\n",
    "\n",
    "xx = layers.Dense(2048, activation=tf.nn.relu)(xx)\n",
    "xx = layers.Dense(2048, activation=tf.nn.relu)(xx)\n",
    "xx = layers.Dense(2048, activation=tf.nn.relu)(xx)\n",
    "\n",
    "outputs = layers.Dense(30, activation=tf.nn.softmax)(xx) # should be 101"
   ]
  },
  {
   "cell_type": "code",
   "execution_count": 39,
   "metadata": {},
   "outputs": [
    {
     "name": "stdout",
     "output_type": "stream",
     "text": [
      "__________________________________________________________________________________________________\n",
      "Layer (type)                    Output Shape         Param #     Connected to                     \n",
      "==================================================================================================\n",
      "input_21 (InputLayer)           (None, 227, 227, 3)  0                                            \n",
      "__________________________________________________________________________________________________\n",
      "input_22 (InputLayer)           (None, 227, 227, 3)  0                                            \n",
      "__________________________________________________________________________________________________\n",
      "input_23 (InputLayer)           (None, 227, 227, 3)  0                                            \n",
      "__________________________________________________________________________________________________\n",
      "input_24 (InputLayer)           (None, 227, 227, 3)  0                                            \n",
      "__________________________________________________________________________________________________\n",
      "input_25 (InputLayer)           (None, 227, 227, 3)  0                                            \n",
      "__________________________________________________________________________________________________\n",
      "input_26 (InputLayer)           (None, 227, 227, 3)  0                                            \n",
      "__________________________________________________________________________________________________\n",
      "input_27 (InputLayer)           (None, 227, 227, 3)  0                                            \n",
      "__________________________________________________________________________________________________\n",
      "input_28 (InputLayer)           (None, 227, 227, 3)  0                                            \n",
      "__________________________________________________________________________________________________\n",
      "input_29 (InputLayer)           (None, 227, 227, 3)  0                                            \n",
      "__________________________________________________________________________________________________\n",
      "input_30 (InputLayer)           (None, 227, 227, 3)  0                                            \n",
      "__________________________________________________________________________________________________\n",
      "input_31 (InputLayer)           (None, 227, 227, 3)  0                                            \n",
      "__________________________________________________________________________________________________\n",
      "input_32 (InputLayer)           (None, 227, 227, 3)  0                                            \n",
      "__________________________________________________________________________________________________\n",
      "input_33 (InputLayer)           (None, 227, 227, 3)  0                                            \n",
      "__________________________________________________________________________________________________\n",
      "input_34 (InputLayer)           (None, 227, 227, 3)  0                                            \n",
      "__________________________________________________________________________________________________\n",
      "input_35 (InputLayer)           (None, 227, 227, 3)  0                                            \n",
      "__________________________________________________________________________________________________\n",
      "input_36 (InputLayer)           (None, 227, 227, 3)  0                                            \n",
      "__________________________________________________________________________________________________\n",
      "input_37 (InputLayer)           (None, 227, 227, 3)  0                                            \n",
      "__________________________________________________________________________________________________\n",
      "input_38 (InputLayer)           (None, 227, 227, 3)  0                                            \n",
      "__________________________________________________________________________________________________\n",
      "input_39 (InputLayer)           (None, 227, 227, 3)  0                                            \n",
      "__________________________________________________________________________________________________\n",
      "input_40 (InputLayer)           (None, 227, 227, 3)  0                                            \n",
      "__________________________________________________________________________________________________\n",
      "conv2d_24 (Conv2D)              (None, 55, 55, 96)   34944       input_21[0][0]                   \n",
      "__________________________________________________________________________________________________\n",
      "conv2d_25 (Conv2D)              (None, 55, 55, 96)   34944       input_22[0][0]                   \n",
      "__________________________________________________________________________________________________\n",
      "conv2d_26 (Conv2D)              (None, 55, 55, 96)   34944       input_23[0][0]                   \n",
      "__________________________________________________________________________________________________\n",
      "conv2d_27 (Conv2D)              (None, 55, 55, 96)   34944       input_24[0][0]                   \n",
      "__________________________________________________________________________________________________\n",
      "conv2d_28 (Conv2D)              (None, 55, 55, 96)   34944       input_25[0][0]                   \n",
      "__________________________________________________________________________________________________\n",
      "conv2d_29 (Conv2D)              (None, 55, 55, 96)   34944       input_26[0][0]                   \n",
      "__________________________________________________________________________________________________\n",
      "conv2d_30 (Conv2D)              (None, 55, 55, 96)   34944       input_27[0][0]                   \n",
      "__________________________________________________________________________________________________\n",
      "conv2d_31 (Conv2D)              (None, 55, 55, 96)   34944       input_28[0][0]                   \n",
      "__________________________________________________________________________________________________\n",
      "conv2d_32 (Conv2D)              (None, 55, 55, 96)   34944       input_29[0][0]                   \n",
      "__________________________________________________________________________________________________\n",
      "conv2d_33 (Conv2D)              (None, 55, 55, 96)   34944       input_30[0][0]                   \n",
      "__________________________________________________________________________________________________\n",
      "conv2d_34 (Conv2D)              (None, 55, 55, 96)   34944       input_31[0][0]                   \n",
      "__________________________________________________________________________________________________\n",
      "conv2d_35 (Conv2D)              (None, 55, 55, 96)   34944       input_32[0][0]                   \n",
      "__________________________________________________________________________________________________\n",
      "conv2d_36 (Conv2D)              (None, 55, 55, 96)   34944       input_33[0][0]                   \n",
      "__________________________________________________________________________________________________\n",
      "conv2d_37 (Conv2D)              (None, 55, 55, 96)   34944       input_34[0][0]                   \n",
      "__________________________________________________________________________________________________\n",
      "conv2d_38 (Conv2D)              (None, 55, 55, 96)   34944       input_35[0][0]                   \n",
      "__________________________________________________________________________________________________\n",
      "conv2d_39 (Conv2D)              (None, 55, 55, 96)   34944       input_36[0][0]                   \n",
      "__________________________________________________________________________________________________\n",
      "conv2d_40 (Conv2D)              (None, 55, 55, 96)   34944       input_37[0][0]                   \n",
      "__________________________________________________________________________________________________\n",
      "conv2d_41 (Conv2D)              (None, 55, 55, 96)   34944       input_38[0][0]                   \n",
      "__________________________________________________________________________________________________\n",
      "conv2d_42 (Conv2D)              (None, 55, 55, 96)   34944       input_39[0][0]                   \n",
      "__________________________________________________________________________________________________\n",
      "conv2d_43 (Conv2D)              (None, 55, 55, 96)   34944       input_40[0][0]                   \n",
      "__________________________________________________________________________________________________\n",
      "add_1 (Add)                     (None, 55, 55, 96)   0           conv2d_24[0][0]                  \n",
      "                                                                 conv2d_25[0][0]                  \n",
      "                                                                 conv2d_26[0][0]                  \n",
      "                                                                 conv2d_27[0][0]                  \n",
      "                                                                 conv2d_28[0][0]                  \n",
      "                                                                 conv2d_29[0][0]                  \n",
      "                                                                 conv2d_30[0][0]                  \n",
      "                                                                 conv2d_31[0][0]                  \n",
      "                                                                 conv2d_32[0][0]                  \n",
      "                                                                 conv2d_33[0][0]                  \n",
      "                                                                 conv2d_34[0][0]                  \n",
      "                                                                 conv2d_35[0][0]                  \n",
      "                                                                 conv2d_36[0][0]                  \n",
      "                                                                 conv2d_37[0][0]                  \n",
      "                                                                 conv2d_38[0][0]                  \n",
      "                                                                 conv2d_39[0][0]                  \n",
      "                                                                 conv2d_40[0][0]                  \n",
      "                                                                 conv2d_41[0][0]                  \n",
      "                                                                 conv2d_42[0][0]                  \n",
      "                                                                 conv2d_43[0][0]                  \n",
      "__________________________________________________________________________________________________\n",
      "batch_normalization_v1_2 (Batch (None, 55, 55, 96)   384         add_1[0][0]                      \n",
      "__________________________________________________________________________________________________\n",
      "max_pooling2d_3 (MaxPooling2D)  (None, 27, 27, 96)   0           batch_normalization_v1_2[0][0]   \n",
      "__________________________________________________________________________________________________\n",
      "conv2d_44 (Conv2D)              (None, 23, 23, 256)  614656      max_pooling2d_3[0][0]            \n",
      "__________________________________________________________________________________________________\n",
      "batch_normalization_v1_3 (Batch (None, 23, 23, 256)  1024        conv2d_44[0][0]                  \n",
      "__________________________________________________________________________________________________\n",
      "max_pooling2d_4 (MaxPooling2D)  (None, 11, 11, 256)  0           batch_normalization_v1_3[0][0]   \n",
      "__________________________________________________________________________________________________\n",
      "conv2d_45 (Conv2D)              (None, 9, 9, 384)    885120      max_pooling2d_4[0][0]            \n",
      "__________________________________________________________________________________________________\n",
      "conv2d_46 (Conv2D)              (None, 7, 7, 384)    1327488     conv2d_45[0][0]                  \n",
      "__________________________________________________________________________________________________\n",
      "conv2d_47 (Conv2D)              (None, 5, 5, 256)    884992      conv2d_46[0][0]                  \n",
      "__________________________________________________________________________________________________\n",
      "max_pooling2d_5 (MaxPooling2D)  (None, 2, 2, 256)    0           conv2d_47[0][0]                  \n",
      "__________________________________________________________________________________________________\n",
      "flatten_1 (Flatten)             (None, 1024)         0           max_pooling2d_5[0][0]            \n",
      "__________________________________________________________________________________________________\n",
      "dense_4 (Dense)                 (None, 2048)         2099200     flatten_1[0][0]                  \n",
      "__________________________________________________________________________________________________\n",
      "dense_5 (Dense)                 (None, 2048)         4196352     dense_4[0][0]                    \n",
      "__________________________________________________________________________________________________\n",
      "dense_6 (Dense)                 (None, 2048)         4196352     dense_5[0][0]                    \n",
      "__________________________________________________________________________________________________\n",
      "dense_7 (Dense)                 (None, 30)           61470       dense_6[0][0]                    \n",
      "==================================================================================================\n",
      "Total params: 14,965,918\n",
      "Trainable params: 14,965,214\n",
      "Non-trainable params: 704\n",
      "__________________________________________________________________________________________________\n"
     ]
    }
   ],
   "source": [
    "from tensorflow.keras.optimizers import SGD\n",
    "opt = SGD(lr=0.01)\n",
    "\n",
    "model = keras.Model(inputs=inputs, outputs=outputs)\n",
    "model.summary()\n",
    "model.compile(loss='sparse_categorical_crossentropy',\n",
    "              optimizer=opt,\n",
    "              metrics=['accuracy'])"
   ]
  },
  {
   "cell_type": "code",
   "execution_count": 41,
   "metadata": {},
   "outputs": [
    {
     "name": "stdout",
     "output_type": "stream",
     "text": [
      "Epoch 1/10\n",
      "380/380 [==============================] - 79s 207ms/sample - loss: 0.7538 - acc: 0.9105\n",
      "Epoch 2/10\n",
      "380/380 [==============================] - 74s 193ms/sample - loss: 0.7602 - acc: 0.9000\n",
      "Epoch 3/10\n",
      "380/380 [==============================] - 73s 193ms/sample - loss: 0.8932 - acc: 0.8632\n",
      "Epoch 4/10\n",
      "380/380 [==============================] - 73s 193ms/sample - loss: 0.7181 - acc: 0.8842\n",
      "Epoch 5/10\n",
      "380/380 [==============================] - 73s 193ms/sample - loss: 0.7771 - acc: 0.8632\n",
      "Epoch 6/10\n",
      "380/380 [==============================] - 73s 193ms/sample - loss: 0.7531 - acc: 0.8553 - loss: 0.7769 - acc: 0. - ETA: 2s - loss: 0.7780 \n",
      "Epoch 7/10\n",
      "380/380 [==============================] - 74s 194ms/sample - loss: 0.6998 - acc: 0.8763\n",
      "Epoch 8/10\n",
      "380/380 [==============================] - 74s 195ms/sample - loss: 0.6378 - acc: 0.8658\n",
      "Epoch 9/10\n",
      "380/380 [==============================] - 75s 199ms/sample - loss: 0.6197 - acc: 0.8526\n",
      "Epoch 10/10\n",
      "380/380 [==============================] - 86s 225ms/sample - loss: 0.5766 - acc: 0.8737\n"
     ]
    }
   ],
   "source": [
    "history = model.fit([x0_test1,x1_test1,x2_test1,x3_test1,x4_test1,x5_test1,x6_test1,x7_test1,x8_test1,x9_test1,x10_test1,x11_test1,x12_test1,x13_test1,x14_test1,x15_test1,x16_test1,x17_test1,x18_test1,x19_test1],\n",
    "                    y_test1,\n",
    "                    batch_size=1,\n",
    "                    epochs=10,\n",
    "                    shuffle=False,\n",
    "                    validation_split=0)\n",
    "\n"
   ]
  },
  {
   "cell_type": "code",
   "execution_count": null,
   "metadata": {},
   "outputs": [],
   "source": [
    "history = model.fit([x0_test2,x1_test2,x2_test2,x3_test2,x4_test2,x5_test2,x6_test2,x7_test2,x8_test2,x9_test2,x10_test2,x11_test2,x12_test2,x13_test2,x14_test2,x15_test2,x16_test2,x17_test2,x18_test2,x19_test2],\n",
    "                    y_test2,\n",
    "                    batch_size=1,\n",
    "                    epochs=10,\n",
    "                    shuffle=False,\n",
    "                    validation_split=0)\n"
   ]
  },
  {
   "cell_type": "code",
   "execution_count": 42,
   "metadata": {},
   "outputs": [
    {
     "name": "stdout",
     "output_type": "stream",
     "text": [
      "Test loss: 7.476701839288344\n",
      "Test accuracy: 0.048648648\n"
     ]
    }
   ],
   "source": [
    "test_scores = model.evaluate([x0_test3,x1_test3,x2_test3,x3_test3,x4_test3,x5_test3,x6_test3,x7_test3,x8_test3,x9_test3,x10_test3,x11_test3,x12_test3,x13_test3,x14_test3,x15_test3,x16_test3,x17_test3,x18_test3,x19_test3],\n",
    "                             y_test3,\n",
    "                             batch_size=1,\n",
    "                             verbose=0)\n",
    "print('Test loss:', test_scores[0])\n",
    "print('Test accuracy:', test_scores[1])"
   ]
  }
 ],
 "metadata": {
  "kernelspec": {
   "display_name": "Python 3",
   "language": "python",
   "name": "python3"
  },
  "language_info": {
   "codemirror_mode": {
    "name": "ipython",
    "version": 3
   },
   "file_extension": ".py",
   "mimetype": "text/x-python",
   "name": "python",
   "nbconvert_exporter": "python",
   "pygments_lexer": "ipython3",
   "version": "3.7.1"
  }
 },
 "nbformat": 4,
 "nbformat_minor": 2
}
