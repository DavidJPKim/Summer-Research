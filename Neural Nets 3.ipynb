{
 "cells": [
  {
   "cell_type": "code",
   "execution_count": 1,
   "metadata": {},
   "outputs": [],
   "source": [
    "from __future__ import absolute_import, division, print_function, unicode_literals\n",
    "\n",
    "import tensorflow as tf\n",
    "from tensorflow import keras\n",
    "#import tensorflow_hub as hub\n",
    "from tensorflow.keras.layers import Dense, Dropout, Activation, Flatten, Conv2D, MaxPooling2D\n",
    "from tensorflow.keras.models import Sequential\n",
    "import pickle\n",
    "\n",
    "import numpy as np\n",
    "import pandas as pd\n",
    "import matplotlib.pyplot as plt\n",
    "import os\n",
    "import cv2"
   ]
  },
  {
   "cell_type": "markdown",
   "metadata": {},
   "source": [
    "## Load in Testing1 Data"
   ]
  },
  {
   "cell_type": "code",
   "execution_count": null,
   "metadata": {},
   "outputs": [],
   "source": [
    "pickle_in = open(\"testing_images1_20CAT.pickle\", 'rb')\n",
    "X_test1 = pickle.load(pickle_in)\n",
    "\n",
    "pickle_in = open(\"testing_labels1_20CAT.pickle\", 'rb')\n",
    "y_test1 = pickle.load(pickle_in)"
   ]
  },
  {
   "cell_type": "code",
   "execution_count": 2,
   "metadata": {},
   "outputs": [],
   "source": [
    "WorkingDir = 'C:\\\\Users\\\\Fletcher\\\\Documents\\\\McDaniel\\\\Summer 2019 research\\\\Python Code\\\\Images-Videos\\\\'\n",
    "TestFrames1DIR = WorkingDir + 'TestFrames1.1\\\\'\n",
    "TestFrames2DIR = WorkingDir + 'TestFrames2.1\\\\'\n",
    "TestFrames3DIR = WorkingDir + 'TestFrames3.1\\\\'\n",
    "TrainFrames1DIR = WorkingDir + 'TrainFrames1.1\\\\'\n",
    "TrainFrames2DIR = WorkingDir + 'TestFrames2.1\\\\'\n",
    "TrainFrames3DIR = WorkingDir + 'TestFrames3.1\\\\'\n",
    "\n",
    "CATEGORIES = ['ApplyEyeMakeup', 'ApplyLipstick', 'Archery', 'BabyCrawling', 'BalanceBeam', 'BandMarching',\n",
    "              'BaseballPitch', 'Basketball', 'BasketballDunk', 'BenchPress', 'Biking', 'Billiards', 'BlowDryHair',\n",
    "              'BlowingCandles', 'BodyWeightSquats', 'Bowling', 'BoxingPunchingBag', 'BoxingSpeedBag', 'Breaststroke',\n",
    "              'BrushingTeeth', 'CleanandJerk', 'CliffDiving', 'CricketBowling', 'CricketShot', 'CuttingInKitchen',\n",
    "              'Diving', 'Drumming', 'Fencing', 'FieldHockeyPenalty', 'FloorGymnastics', 'FrisbeeCatch', 'FrontCrawl',\n",
    "              'GolfSwing', 'Haircut', 'HammerThrow', 'Hammering', 'HandstandPushups', 'HandstandWalking',\n",
    "              'HeadMassage', 'HighJump', 'HorseRace', 'HorseRiding', 'HulaHoop', 'IceDancing', 'JavelinThrow',\n",
    "              'JugglingBalls', 'JumpRope', 'JumpingJack', 'Kayaking', 'Knitting', 'LongJump', 'Lunges',\n",
    "              'MilitaryParade', 'Mixing', 'MoppingFloor', 'Nunchucks', 'ParallelBars', 'PizzaTossing',\n",
    "              'PlayingGuitar', 'PlayingPiano', 'PlayingTabla', 'PlayingViolin', 'PlayingCello', 'PlayingDaf',\n",
    "              'PlayingDhol', 'PlayingFlute', 'PlayingSitar', 'PoleVault', 'PommelHorse', 'PullUps', 'Punch',\n",
    "              'PushUps', 'Rafting', 'RockClimbingIndoor', 'RopeClimbing', 'Rowing', 'SalsaSpin', 'ShavingBeard',\n",
    "              'Shotput', 'SkateBoarding', 'Skiing', 'Skijet', 'SkyDiving', 'SoccerJuggling', 'SoccerPenalty',\n",
    "              'StillRings', 'SumoWrestling', 'Surfing', 'Swing', 'TableTennisShot', 'TaiChi', 'TennisSwing',\n",
    "              'ThrowDiscus', 'TrampolineJumping', 'Typing', 'UnevenBars', 'VolleyballSpiking', 'WalkingWithDog',\n",
    "              'WallPushups', 'WritingOnBoard', 'YoYo']\n"
   ]
  },
  {
   "cell_type": "code",
   "execution_count": 3,
   "metadata": {},
   "outputs": [],
   "source": [
    "def load_videos(directory, max_categories=20): # by default uses first [max_categories] categories\n",
    "    data = []\n",
    "    cat_num = 0\n",
    "    \n",
    "    for category in CATEGORIES:\n",
    "        if(cat_num >= max_categories):\n",
    "            break\n",
    "        pathCat = os.path.join(directory, category)\n",
    "        pathVid = directory + str(category)\n",
    "\n",
    "        print( str(cat_num) + ': ' + category )\n",
    "        for video in os.listdir(pathVid):\n",
    "            pathImg = pathVid + '/' + str(video)\n",
    "            \n",
    "            for img in os.listdir(pathImg):\n",
    "                img_array = cv2.imread(pathImg + '/' + img)\n",
    "                data.append([np.array(img_array), cat_num])\n",
    "            \n",
    "        cat_num += 1\n",
    "    print('done')\n",
    "    return data"
   ]
  },
  {
   "cell_type": "code",
   "execution_count": 4,
   "metadata": {},
   "outputs": [],
   "source": [
    "def sort_by_frame(testing_data):\n",
    "    X = []\n",
    "    y = []\n",
    "\n",
    "\n",
    "    for features, label in testing_data:\n",
    "        # put data from 0-255 into scale of 0-1\n",
    "        X.append(features / 255.0)\n",
    "        y.append(label)\n",
    "\n",
    "\n",
    "    X = np.array(X) # convert to numpy array\n",
    "\n",
    "    i=0\n",
    "    # 20 arrays\n",
    "    # X2[0] holds frame 0 of each video, X2[1] holds frame 1, etc.\n",
    "    X2 = [[],[],[],[],[],[],[],[],[],[],[],[],[],[],[],[],[],[],[],[]]\n",
    "\n",
    "    # holds the category tag of the videos; y2[0] is for the 0th frames, etc.\n",
    "    y2 = []\n",
    "\n",
    "    # split each viedo along the columns of X2\n",
    "    for frame in X:\n",
    "        X2[ i % 20 ].append(frame)\n",
    "\n",
    "        if i % 20 == 0:\n",
    "            # add the video's tag to y2\n",
    "            y2.append(y[i]) \n",
    "\n",
    "        i+=1\n",
    "        if i % 1000 == 0:\n",
    "            print('frame ' + str(i) + ' processed')\n",
    "\n",
    "    X = None # free up storage\n",
    "\n",
    "    print('done')\n",
    "    return X2, y2"
   ]
  },
  {
   "cell_type": "code",
   "execution_count": 5,
   "metadata": {},
   "outputs": [
    {
     "name": "stdout",
     "output_type": "stream",
     "text": [
      "0: ApplyEyeMakeup\n",
      "1: ApplyLipstick\n",
      "2: Archery\n",
      "3: BabyCrawling\n",
      "4: BalanceBeam\n",
      "5: BandMarching\n",
      "6: BaseballPitch\n",
      "7: Basketball\n",
      "done\n"
     ]
    }
   ],
   "source": [
    "testing_data1 = load_videos(TestFrames1DIR)"
   ]
  },
  {
   "cell_type": "code",
   "execution_count": 6,
   "metadata": {},
   "outputs": [
    {
     "name": "stdout",
     "output_type": "stream",
     "text": [
      "frame 1000 processed\n",
      "frame 2000 processed\n",
      "frame 3000 processed\n",
      "done\n"
     ]
    }
   ],
   "source": [
    "X_test1, y_test1 = sort_by_frame(testing_data1)\n",
    "testing_data1 = None # free up storage"
   ]
  },
  {
   "cell_type": "code",
   "execution_count": null,
   "metadata": {},
   "outputs": [],
   "source": [
    "pickle_out = open('testing_images1_20CAT.pickle', 'wb')\n",
    "pickle.dump(X_test1, pickle_out, protocol=4)\n",
    "pickle_out.close()\n",
    "\n",
    "pickle_out = open('testing_labels1_20CAT.pickle', 'wb')\n",
    "pickle.dump(y_test1, pickle_out, protocol=4)\n",
    "pickle_out.close()"
   ]
  },
  {
   "cell_type": "markdown",
   "metadata": {},
   "source": [
    "## Load in Testing2 Data"
   ]
  },
  {
   "cell_type": "code",
   "execution_count": 4,
   "metadata": {},
   "outputs": [],
   "source": [
    "pickle_in = open(\"testing_images2_20CAT.pickle\", 'rb')\n",
    "X_test2 = pickle.load(pickle_in)\n",
    "\n",
    "pickle_in = open(\"testing_labels2_20CAT.pickle\", 'rb')\n",
    "y_test2 = pickle.load(pickle_in)"
   ]
  },
  {
   "cell_type": "code",
   "execution_count": 7,
   "metadata": {},
   "outputs": [
    {
     "name": "stdout",
     "output_type": "stream",
     "text": [
      "0: ApplyEyeMakeup\n",
      "1: ApplyLipstick\n",
      "2: Archery\n",
      "3: BabyCrawling\n",
      "4: BalanceBeam\n",
      "5: BandMarching\n",
      "6: BaseballPitch\n",
      "7: Basketball\n",
      "done\n"
     ]
    }
   ],
   "source": [
    "testing_data2 = load_videos(TestFrames2DIR)"
   ]
  },
  {
   "cell_type": "code",
   "execution_count": 8,
   "metadata": {},
   "outputs": [
    {
     "name": "stdout",
     "output_type": "stream",
     "text": [
      "frame 1000 processed\n",
      "frame 2000 processed\n",
      "done\n"
     ]
    }
   ],
   "source": [
    "X_test2, y_test2 = sort_by_frame(testing_data2)\n",
    "testing_data2 = None"
   ]
  },
  {
   "cell_type": "code",
   "execution_count": null,
   "metadata": {},
   "outputs": [],
   "source": [
    "pickle_out = open('testing_images2_20CAT.pickle', 'wb')\n",
    "pickle.dump(X_test2, pickle_out, protocol=4)\n",
    "pickle_out.close()\n",
    "\n",
    "pickle_out = open('testing_labels2_20CAT.pickle', 'wb')\n",
    "pickle.dump(y_test2, pickle_out, protocol=4)\n",
    "pickle_out.close()"
   ]
  },
  {
   "cell_type": "markdown",
   "metadata": {},
   "source": [
    "## Load in Testing3 Data"
   ]
  },
  {
   "cell_type": "code",
   "execution_count": 5,
   "metadata": {},
   "outputs": [],
   "source": [
    "pickle_in = open(\"testing_images3_20CAT.pickle\", 'rb')\n",
    "X_test3 = pickle.load(pickle_in)\n",
    "\n",
    "pickle_in = open(\"testing_labels3_20CAT.pickle\", 'rb')\n",
    "y_test3 = pickle.load(pickle_in)"
   ]
  },
  {
   "cell_type": "code",
   "execution_count": 9,
   "metadata": {},
   "outputs": [
    {
     "name": "stdout",
     "output_type": "stream",
     "text": [
      "0: ApplyEyeMakeup\n",
      "1: ApplyLipstick\n",
      "2: Archery\n",
      "3: BabyCrawling\n",
      "4: BalanceBeam\n",
      "5: BandMarching\n",
      "6: BaseballPitch\n",
      "7: Basketball\n",
      "done\n"
     ]
    }
   ],
   "source": [
    "testing_data3 = load_videos(TestFrames3DIR)"
   ]
  },
  {
   "cell_type": "code",
   "execution_count": 10,
   "metadata": {},
   "outputs": [
    {
     "name": "stdout",
     "output_type": "stream",
     "text": [
      "frame 1000 processed\n",
      "frame 2000 processed\n",
      "frame 3000 processed\n",
      "done\n"
     ]
    }
   ],
   "source": [
    "X_test3, y_test3 = sort_by_frame(testing_data3)\n",
    "testing_data3 = None"
   ]
  },
  {
   "cell_type": "markdown",
   "metadata": {},
   "source": [
    "## The Model"
   ]
  },
  {
   "cell_type": "code",
   "execution_count": 11,
   "metadata": {
    "scrolled": true
   },
   "outputs": [
    {
     "name": "stdout",
     "output_type": "stream",
     "text": [
      "WARNING:tensorflow:From C:\\Users\\Fletcher\\Anaconda3\\lib\\site-packages\\tensorflow\\python\\ops\\resource_variable_ops.py:435: colocate_with (from tensorflow.python.framework.ops) is deprecated and will be removed in a future version.\n",
      "Instructions for updating:\n",
      "Colocations handled automatically by placer.\n",
      "Tensor(\"input_1:0\", shape=(?, 227, 227, 3), dtype=float32)\n",
      "Tensor(\"conv2d/BiasAdd:0\", shape=(?, 55, 55, 96), dtype=float32)\n",
      "Tensor(\"add/add_18:0\", shape=(?, 55, 55, 96), dtype=float32)\n"
     ]
    }
   ],
   "source": [
    "inputs = [''] * 20\n",
    "xArray = [None] * 20\n",
    "\n",
    "for i in range(20):\n",
    "    inputs[i] = (keras.Input(shape=(227,227,3)))\n",
    "    xArray[i] = (tf.keras.layers.Conv2D(96, (11,11), strides=(4,4), input_shape = (227,227,3))) (inputs[i])\n",
    "\n",
    "added = tf.keras.layers.Add()(xArray)\n",
    "print(inputs[0])\n",
    "print(xArray[0])\n",
    "print(added)\n",
    "\n",
    "xx = tf.keras.layers.BatchNormalization()(added)\n",
    "\n",
    "xx = tf.keras.layers.MaxPooling2D(pool_size = (3,3), strides=(2,2))(xx)\n",
    "    \n",
    "xx = tf.keras.layers.Conv2D(256, (5,5), strides=(1,1))(xx)\n",
    "xx = tf.keras.layers.BatchNormalization()(xx)\n",
    "xx = tf.keras.layers.MaxPooling2D(pool_size = (3,3), strides=(2,2))(xx)\n",
    "    \n",
    "xx = tf.keras.layers.Conv2D(384, (3,3), strides=(1,1))(xx)\n",
    "xx = tf.keras.layers.Conv2D(384, (3,3), strides=(1,1))(xx)\n",
    "xx = tf.keras.layers.Conv2D(256, (3,3), strides=(1,1))(xx)\n",
    "    \n",
    "xx = tf.keras.layers.MaxPooling2D(pool_size = (3,3), strides=(2,2))(xx)\n",
    "\n",
    "#dropout\n",
    "   \n",
    "xx = tf.keras.layers.Flatten()(xx)\n",
    "\n",
    "xx = tf.keras.layers.Dense(2048, activation=tf.nn.relu)(xx)\n",
    "xx = tf.keras.layers.Dense(2048, activation=tf.nn.relu)(xx)\n",
    "xx = tf.keras.layers.Dense(2048, activation=tf.nn.relu)(xx)\n",
    "\n",
    "outputs = tf.keras.layers.Dense(8, activation=tf.nn.softmax)(xx) # should be 101\n",
    "\n",
    "from tensorflow.keras.optimizers import SGD\n",
    "opt = SGD(lr=0.01)\n",
    "\n",
    "model = keras.Model(inputs=inputs, outputs=outputs)\n",
    "\n",
    "model.compile(loss='sparse_categorical_crossentropy',\n",
    "              optimizer=opt,\n",
    "              metrics=['accuracy'])"
   ]
  },
  {
   "cell_type": "code",
   "execution_count": 12,
   "metadata": {},
   "outputs": [],
   "source": [
    "# model.summary()"
   ]
  },
  {
   "cell_type": "code",
   "execution_count": 13,
   "metadata": {},
   "outputs": [
    {
     "name": "stdout",
     "output_type": "stream",
     "text": [
      "152/152 [==============================] - 182s 1s/sample - loss: 0.4929 - acc: 0.9474\n"
     ]
    }
   ],
   "source": [
    "history = model.fit(X_test1,\n",
    "                    y_test1,\n",
    "                    batch_size=1,\n",
    "                    epochs=1,\n",
    "                    shuffle=False,\n",
    "                    validation_split=0)"
   ]
  },
  {
   "cell_type": "code",
   "execution_count": null,
   "metadata": {},
   "outputs": [
    {
     "name": "stdout",
     "output_type": "stream",
     "text": [
      " 35/370 [=>............................] - ETA: 2:14 - loss: 1.0464 - acc: 0.8857"
     ]
    }
   ],
   "source": [
    "history = model.fit(X_test2\n",
    "                    y_test2,\n",
    "                    batch_size=1,\n",
    "                    epochs=1,\n",
    "                    shuffle=False,\n",
    "                    validation_split=0)"
   ]
  },
  {
   "cell_type": "code",
   "execution_count": 14,
   "metadata": {},
   "outputs": [
    {
     "name": "stdout",
     "output_type": "stream",
     "text": [
      "Test loss: 10.075228869428217\n",
      "Test accuracy: 0.11724138\n"
     ]
    }
   ],
   "source": [
    "test_scores = model.evaluate(X_test2,\n",
    "                             y_test2,\n",
    "                             batch_size=1,\n",
    "                             verbose=0)\n",
    "print('Test loss:', test_scores[0])\n",
    "print('Test accuracy:', test_scores[1])"
   ]
  },
  {
   "cell_type": "markdown",
   "metadata": {},
   "source": [
    "# Lets try some predictions"
   ]
  },
  {
   "cell_type": "code",
   "execution_count": 30,
   "metadata": {},
   "outputs": [
    {
     "name": "stdout",
     "output_type": "stream",
     "text": [
      "ApplyEyeMakeup\n",
      "ApplyLipstick\n",
      "Archery\n"
     ]
    }
   ],
   "source": [
    "training_data1 = load_videos(TrainFrames1DIR)"
   ]
  },
  {
   "cell_type": "code",
   "execution_count": 31,
   "metadata": {},
   "outputs": [
    {
     "name": "stdout",
     "output_type": "stream",
     "text": [
      "(2860, 227, 227, 3)\n"
     ]
    }
   ],
   "source": [
    "X_train1, y_train1 = sort_by_frame(training_data1)\n",
    "print(X_train1.shape)"
   ]
  },
  {
   "cell_type": "code",
   "execution_count": 40,
   "metadata": {},
   "outputs": [],
   "source": [
    "PredictIMG = X_train1     \n",
    "\n",
    "predict = model.predict(PredictIMG)\n"
   ]
  },
  {
   "cell_type": "code",
   "execution_count": 43,
   "metadata": {
    "scrolled": true
   },
   "outputs": [
    {
     "data": {
      "image/png": "[encoded data removed]",
      "text/plain": [
       "<Figure size 432x288 with 1 Axes>"
      ]
     },
     "metadata": {
      "needs_background": "light"
     },
     "output_type": "display_data"
    },
    {
     "name": "stdout",
     "output_type": "stream",
     "text": [
      "[1.46840717e-08 1.24512338e-08 3.43629436e-09 1.33156401e-08\n",
      " 1.47891379e-08 6.65284361e-08 5.90926374e-09 1.55863980e-08\n",
      " 3.39708492e-08 6.06374595e-09 5.78174522e-08 2.21838565e-08\n",
      " 8.41181205e-08 2.60559290e-07 8.30688862e-07 1.34406193e-08\n",
      " 3.75202376e-06 4.75775323e-06 1.16579520e-06 9.99988914e-01\n",
      " 2.44084220e-09 4.33996616e-09 2.33002879e-08 1.08895915e-08\n",
      " 8.07585021e-09 1.24361788e-09 7.54402141e-09 2.48835814e-08\n",
      " 1.59436659e-08 1.71025027e-09]\n"
     ]
    }
   ],
   "source": [
    "plt.imshow(x0_train1[0])\n",
    "plt.show()\n",
    "print(predict[0])"
   ]
  }
 ],
 "metadata": {
  "kernelspec": {
   "display_name": "Python 3",
   "language": "python",
   "name": "python3"
  },
  "language_info": {
   "codemirror_mode": {
    "name": "ipython",
    "version": 3
   },
   "file_extension": ".py",
   "mimetype": "text/x-python",
   "name": "python",
   "nbconvert_exporter": "python",
   "pygments_lexer": "ipython3",
   "version": "3.7.3"
  }
 },
 "nbformat": 4,
 "nbformat_minor": 2
}
