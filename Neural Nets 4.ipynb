{
 "cells": [
  {
   "cell_type": "code",
   "execution_count": 1,
   "metadata": {},
   "outputs": [],
   "source": [
    "from __future__ import absolute_import, division, print_function, unicode_literals\n",
    "\n",
    "import tensorflow as tf\n",
    "from tensorflow import keras\n",
    "from tensorflow.keras.models import Sequential\n",
    "from tensorflow.keras.optimizers import SGD, Adam\n",
    "from tensorflow.keras.models import load_model\n",
    "from tensorflow.keras import layers\n",
    "from tensorflow.keras.callbacks import EarlyStopping\n",
    "\n",
    "import pickle\n",
    "import numpy as np\n",
    "import matplotlib.pyplot as plt\n",
    "import os\n",
    "import cv2"
   ]
  },
  {
   "cell_type": "code",
   "execution_count": null,
   "metadata": {},
   "outputs": [],
   "source": [
    "model = load_model(\"my_model.h5\")"
   ]
  },
  {
   "cell_type": "code",
   "execution_count": null,
   "metadata": {},
   "outputs": [],
   "source": []
  },
  {
   "cell_type": "markdown",
   "metadata": {},
   "source": [
    "# Read in Training_data1"
   ]
  },
  {
   "cell_type": "code",
   "execution_count": 2,
   "metadata": {},
   "outputs": [],
   "source": [
    "pickle_in = open(\"training_images1_20CAT.pickle\", 'rb')\n",
    "X_train1 = pickle.load(pickle_in)\n",
    "\n",
    "pickle_in = open(\"training_labels1_20CAT.pickle\", 'rb')\n",
    "y_train1 = pickle.load(pickle_in)"
   ]
  },
  {
   "cell_type": "markdown",
   "metadata": {},
   "source": [
    "## separates into 20 frame arrays, (Ex. array[1] holds the first saved frame from every video)"
   ]
  },
  {
   "cell_type": "code",
   "execution_count": 3,
   "metadata": {},
   "outputs": [],
   "source": [
    "x0_train1 = []\n",
    "x1_train1 = []\n",
    "x2_train1 = []\n",
    "x3_train1 = []\n",
    "x4_train1 = []\n",
    "x5_train1 = []\n",
    "x6_train1 = []\n",
    "x7_train1 = []\n",
    "x8_train1 = []\n",
    "x9_train1 = []\n",
    "x10_train1 = []\n",
    "x11_train1 = []\n",
    "x12_train1 = []\n",
    "x13_train1 = []\n",
    "x14_train1 = []\n",
    "x15_train1 = []\n",
    "x16_train1 = []\n",
    "x17_train1 = []\n",
    "x18_train1 = []\n",
    "x19_train1 = []\n",
    "\n",
    "\n",
    "\n",
    "\n",
    "for i in range(len(X_train1)):\n",
    "    if(i % 20 == 0):\n",
    "        x0_train1.append(X_train1[i])\n",
    "    elif(i % 20 == 1):\n",
    "        x1_train1.append(X_train1[i])\n",
    "    elif(i % 20 == 2):\n",
    "        x2_train1.append(X_train1[i])\n",
    "    elif(i % 20 == 3):\n",
    "        x3_train1.append(X_train1[i])\n",
    "    elif(i % 20 == 4):\n",
    "        x4_train1.append(X_train1[i])\n",
    "    elif(i % 20 == 5):\n",
    "        x5_train1.append(X_train1[i])\n",
    "    elif(i % 20 == 6):\n",
    "        x6_train1.append(X_train1[i])\n",
    "    elif(i % 20 == 7):\n",
    "        x7_train1.append(X_train1[i])\n",
    "    elif(i % 20 == 8):\n",
    "        x8_train1.append(X_train1[i])\n",
    "    elif(i % 20 == 9):\n",
    "        x9_train1.append(X_train1[i])\n",
    "    elif(i % 20 == 10):\n",
    "        x10_train1.append(X_train1[i])\n",
    "    elif(i % 20 == 11):\n",
    "        x11_train1.append(X_train1[i])\n",
    "    elif(i % 20 == 12):\n",
    "        x12_train1.append(X_train1[i])\n",
    "    elif(i % 20 == 13):\n",
    "        x13_train1.append(X_train1[i])\n",
    "    elif(i % 20 == 14):\n",
    "        x14_train1.append(X_train1[i])\n",
    "    elif(i % 20 == 15):\n",
    "        x15_train1.append(X_train1[i])\n",
    "    elif(i % 20 == 16):\n",
    "        x16_train1.append(X_train1[i])\n",
    "    elif(i % 20 == 17):\n",
    "        x17_train1.append(X_train1[i])\n",
    "    elif(i % 20 == 18):\n",
    "        x18_train1.append(X_train1[i])\n",
    "    elif(i % 20 == 19):\n",
    "        x19_train1.append(X_train1[i])\n",
    "        "
   ]
  },
  {
   "cell_type": "markdown",
   "metadata": {},
   "source": [
    "## Dumps X array to save memory"
   ]
  },
  {
   "cell_type": "code",
   "execution_count": 4,
   "metadata": {},
   "outputs": [],
   "source": [
    "X_train1 = None"
   ]
  },
  {
   "cell_type": "code",
   "execution_count": 5,
   "metadata": {},
   "outputs": [],
   "source": [
    "x0_train1 = np.array(x0_train1)\n",
    "x1_train1 = np.array(x1_train1)\n",
    "x2_train1 = np.array(x2_train1)\n",
    "x3_train1 = np.array(x3_train1)\n",
    "x4_train1 = np.array(x4_train1)\n",
    "x5_train1 = np.array(x5_train1)\n",
    "x6_train1 = np.array(x6_train1)\n",
    "x7_train1 = np.array(x7_train1)\n",
    "x8_train1 = np.array(x8_train1)\n",
    "x9_train1 = np.array(x9_train1)\n",
    "x10_train1 = np.array(x10_train1)\n",
    "x11_train1 = np.array(x11_train1)\n",
    "x12_train1 = np.array(x12_train1)\n",
    "x13_train1 = np.array(x13_train1)\n",
    "x14_train1 = np.array(x14_train1)\n",
    "x15_train1 = np.array(x15_train1)\n",
    "x16_train1 = np.array(x16_train1)\n",
    "x17_train1 = np.array(x17_train1)\n",
    "x18_train1 = np.array(x18_train1)\n",
    "x19_train1 = np.array(x19_train1)"
   ]
  },
  {
   "cell_type": "markdown",
   "metadata": {},
   "source": [
    "## Read in Testing_images1"
   ]
  },
  {
   "cell_type": "code",
   "execution_count": 13,
   "metadata": {},
   "outputs": [],
   "source": [
    "pickle_in = open(\"testing_images1_20CAT.pickle\", 'rb')\n",
    "X_test1 = pickle.load(pickle_in)\n",
    "\n",
    "pickle_in = open(\"testing_labels1_20CAT.pickle\", 'rb')\n",
    "y_test1 = pickle.load(pickle_in)"
   ]
  },
  {
   "cell_type": "code",
   "execution_count": 20,
   "metadata": {},
   "outputs": [],
   "source": [
    "pickle_in = open(\"testing_images2_20CAT.pickle\", 'rb')\n",
    "X_test2 = pickle.load(pickle_in)\n",
    "\n",
    "pickle_in = open(\"testing_labels2_20CAT.pickle\", 'rb')\n",
    "y_test2 = pickle.load(pickle_in)"
   ]
  },
  {
   "cell_type": "code",
   "execution_count": 40,
   "metadata": {},
   "outputs": [
    {
     "ename": "MemoryError",
     "evalue": "",
     "output_type": "error",
     "traceback": [
      "\u001b[1;31m---------------------------------------------------------------------------\u001b[0m",
      "\u001b[1;31mMemoryError\u001b[0m                               Traceback (most recent call last)",
      "\u001b[1;32m<ipython-input-40-7de9fd30fcfb>\u001b[0m in \u001b[0;36m<module>\u001b[1;34m\u001b[0m\n\u001b[0;32m      1\u001b[0m \u001b[0mpickle_in\u001b[0m \u001b[1;33m=\u001b[0m \u001b[0mopen\u001b[0m\u001b[1;33m(\u001b[0m\u001b[1;34m\"testing_images3_20CAT.pickle\"\u001b[0m\u001b[1;33m,\u001b[0m \u001b[1;34m'rb'\u001b[0m\u001b[1;33m)\u001b[0m\u001b[1;33m\u001b[0m\u001b[1;33m\u001b[0m\u001b[0m\n\u001b[1;32m----> 2\u001b[1;33m \u001b[0mX_test3\u001b[0m \u001b[1;33m=\u001b[0m \u001b[0mpickle\u001b[0m\u001b[1;33m.\u001b[0m\u001b[0mload\u001b[0m\u001b[1;33m(\u001b[0m\u001b[0mpickle_in\u001b[0m\u001b[1;33m)\u001b[0m\u001b[1;33m\u001b[0m\u001b[1;33m\u001b[0m\u001b[0m\n\u001b[0m\u001b[0;32m      3\u001b[0m \u001b[1;33m\u001b[0m\u001b[0m\n\u001b[0;32m      4\u001b[0m \u001b[0mpickle_in\u001b[0m \u001b[1;33m=\u001b[0m \u001b[0mopen\u001b[0m\u001b[1;33m(\u001b[0m\u001b[1;34m\"testing_labels3_20CAT.pickle\"\u001b[0m\u001b[1;33m,\u001b[0m \u001b[1;34m'rb'\u001b[0m\u001b[1;33m)\u001b[0m\u001b[1;33m\u001b[0m\u001b[1;33m\u001b[0m\u001b[0m\n\u001b[0;32m      5\u001b[0m \u001b[0my_test3\u001b[0m \u001b[1;33m=\u001b[0m \u001b[0mpickle\u001b[0m\u001b[1;33m.\u001b[0m\u001b[0mload\u001b[0m\u001b[1;33m(\u001b[0m\u001b[0mpickle_in\u001b[0m\u001b[1;33m)\u001b[0m\u001b[1;33m\u001b[0m\u001b[1;33m\u001b[0m\u001b[0m\n",
      "\u001b[1;31mMemoryError\u001b[0m: "
     ]
    }
   ],
   "source": [
    "pickle_in = open(\"testing_images3_20CAT.pickle\", 'rb')\n",
    "X_test3 = pickle.load(pickle_in)\n",
    "\n",
    "pickle_in = open(\"testing_labels3_20CAT.pickle\", 'rb')\n",
    "y_test3 = pickle.load(pickle_in)"
   ]
  },
  {
   "cell_type": "code",
   "execution_count": 14,
   "metadata": {},
   "outputs": [],
   "source": [
    "x0_test1 = []\n",
    "x1_test1 = []\n",
    "x2_test1 = []\n",
    "x3_test1 = []\n",
    "x4_test1 = []\n",
    "x5_test1 = []\n",
    "x6_test1 = []\n",
    "x7_test1 = []\n",
    "x8_test1 = []\n",
    "x9_test1 = []\n",
    "x10_test1 = []\n",
    "x11_test1 = []\n",
    "x12_test1 = []\n",
    "x13_test1 = []\n",
    "x14_test1 = []\n",
    "x15_test1 = []\n",
    "x16_test1 = []\n",
    "x17_test1 = []\n",
    "x18_test1 = []\n",
    "x19_test1 = []\n",
    "\n",
    "\n",
    "for i in range(len(X_test1)):\n",
    "    if(i % 20 == 0):\n",
    "        x0_test1.append(X_test1[i])\n",
    "    elif(i % 20 == 1):\n",
    "        x1_test1.append(X_test1[i])\n",
    "    elif(i % 20 == 2):\n",
    "        x2_test1.append(X_test1[i])\n",
    "    elif(i % 20 == 3):\n",
    "        x3_test1.append(X_test1[i])\n",
    "    elif(i % 20 == 4):\n",
    "        x4_test1.append(X_test1[i])\n",
    "    elif(i % 20 == 5):\n",
    "        x5_test1.append(X_test1[i])\n",
    "    elif(i % 20 == 6):\n",
    "        x6_test1.append(X_test1[i])\n",
    "    elif(i % 20 == 7):\n",
    "        x7_test1.append(X_test1[i])\n",
    "    elif(i % 20 == 8):\n",
    "        x8_test1.append(X_test1[i])\n",
    "    elif(i % 20 == 9):\n",
    "        x9_test1.append(X_test1[i])\n",
    "    elif(i % 20 == 10):\n",
    "        x10_test1.append(X_test1[i])\n",
    "    elif(i % 20 == 11):\n",
    "        x11_test1.append(X_test1[i])\n",
    "    elif(i % 20 == 12):\n",
    "        x12_test1.append(X_test1[i])\n",
    "    elif(i % 20 == 13):\n",
    "        x13_test1.append(X_test1[i])\n",
    "    elif(i % 20 == 14):\n",
    "        x14_test1.append(X_test1[i])\n",
    "    elif(i % 20 == 15):\n",
    "        x15_test1.append(X_test1[i])\n",
    "    elif(i % 20 == 16):\n",
    "        x16_test1.append(X_test1[i])\n",
    "    elif(i % 20 == 17):\n",
    "        x17_test1.append(X_test1[i])\n",
    "    elif(i % 20 == 18):\n",
    "        x18_test1.append(X_test1[i])\n",
    "    elif(i % 20 == 19):\n",
    "        x19_test1.append(X_test1[i])\n",
    "        "
   ]
  },
  {
   "cell_type": "code",
   "execution_count": 21,
   "metadata": {},
   "outputs": [],
   "source": [
    "x0_test2 = []\n",
    "x1_test2 = []\n",
    "x2_test2 = []\n",
    "x3_test2 = []\n",
    "x4_test2 = []\n",
    "x5_test2 = []\n",
    "x6_test2 = []\n",
    "x7_test2 = []\n",
    "x8_test2 = []\n",
    "x9_test2 = []\n",
    "x10_test2 = []\n",
    "x11_test2 = []\n",
    "x12_test2 = []\n",
    "x13_test2 = []\n",
    "x14_test2 = []\n",
    "x15_test2 = []\n",
    "x16_test2 = []\n",
    "x17_test2 = []\n",
    "x18_test2 = []\n",
    "x19_test2 = []\n",
    "\n",
    "\n",
    "for i in range(len(X_test2)):\n",
    "    if(i % 20 == 0):\n",
    "        x0_test2.append(X_test2[i])\n",
    "    elif(i % 20 == 1):\n",
    "        x1_test2.append(X_test2[i])\n",
    "    elif(i % 20 == 2):\n",
    "        x2_test2.append(X_test2[i])\n",
    "    elif(i % 20 == 3):\n",
    "        x3_test2.append(X_test2[i])\n",
    "    elif(i % 20 == 4):\n",
    "        x4_test2.append(X_test2[i])\n",
    "    elif(i % 20 == 5):\n",
    "        x5_test2.append(X_test2[i])\n",
    "    elif(i % 20 == 6):\n",
    "        x6_test2.append(X_test2[i])\n",
    "    elif(i % 20 == 7):\n",
    "        x7_test2.append(X_test2[i])\n",
    "    elif(i % 20 == 8):\n",
    "        x8_test2.append(X_test2[i])\n",
    "    elif(i % 20 == 9):\n",
    "        x9_test2.append(X_test2[i])\n",
    "    elif(i % 20 == 10):\n",
    "        x10_test2.append(X_test2[i])\n",
    "    elif(i % 20 == 11):\n",
    "        x11_test2.append(X_test2[i])\n",
    "    elif(i % 20 == 12):\n",
    "        x12_test2.append(X_test2[i])\n",
    "    elif(i % 20 == 13):\n",
    "        x13_test2.append(X_test2[i])\n",
    "    elif(i % 20 == 14):\n",
    "        x14_test2.append(X_test2[i])\n",
    "    elif(i % 20 == 15):\n",
    "        x15_test2.append(X_test2[i])\n",
    "    elif(i % 20 == 16):\n",
    "        x16_test2.append(X_test2[i])\n",
    "    elif(i % 20 == 17):\n",
    "        x17_test2.append(X_test2[i])\n",
    "    elif(i % 20 == 18):\n",
    "        x18_test2.append(X_test2[i])\n",
    "    elif(i % 20 == 19):\n",
    "        x19_test2.append(X_test2[i])\n",
    "        "
   ]
  },
  {
   "cell_type": "code",
   "execution_count": null,
   "metadata": {},
   "outputs": [],
   "source": [
    "x0_test3 = []\n",
    "x1_test3 = []\n",
    "x2_test3 = []\n",
    "x3_test3 = []\n",
    "x4_test3 = []\n",
    "x5_test3 = []\n",
    "x6_test3 = []\n",
    "x7_test3 = []\n",
    "x8_test3 = []\n",
    "x9_test3 = []\n",
    "x10_test3 = []\n",
    "x11_test3 = []\n",
    "x12_test3 = []\n",
    "x13_test3 = []\n",
    "x14_test3 = []\n",
    "x15_test3 = []\n",
    "x16_test3 = []\n",
    "x17_test3 = []\n",
    "x18_test3 = []\n",
    "x19_test3 = []\n",
    "\n",
    "\n",
    "for i in range(len(X_test3)):\n",
    "    if(i % 20 == 0):\n",
    "        x0_test3.append(X_test3[i])\n",
    "    elif(i % 20 == 1):\n",
    "        x1_test3.append(X_test3[i])\n",
    "    elif(i % 20 == 2):\n",
    "        x2_test3.append(X_test3[i])\n",
    "    elif(i % 20 == 3):\n",
    "        x3_test3.append(X_test3[i])\n",
    "    elif(i % 20 == 4):\n",
    "        x4_test3.append(X_test3[i])\n",
    "    elif(i % 20 == 5):\n",
    "        x5_test3.append(X_test3[i])\n",
    "    elif(i % 20 == 6):\n",
    "        x6_test3.append(X_test3[i])\n",
    "    elif(i % 20 == 7):\n",
    "        x7_test3.append(X_test3[i])\n",
    "    elif(i % 20 == 8):\n",
    "        x8_test3.append(X_test3[i])\n",
    "    elif(i % 20 == 9):\n",
    "        x9_test3.append(X_test3[i])\n",
    "    elif(i % 20 == 10):\n",
    "        x10_test3.append(X_test3[i])\n",
    "    elif(i % 20 == 11):\n",
    "        x11_test3.append(X_test3[i])\n",
    "    elif(i % 20 == 12):\n",
    "        x12_test3.append(X_test3[i])\n",
    "    elif(i % 20 == 13):\n",
    "        x13_test3.append(X_test3[i])\n",
    "    elif(i % 20 == 14):\n",
    "        x14_test3.append(X_test3[i])\n",
    "    elif(i % 20 == 15):\n",
    "        x15_test3.append(X_test3[i])\n",
    "    elif(i % 20 == 16):\n",
    "        x16_test3.append(X_test3[i])\n",
    "    elif(i % 20 == 17):\n",
    "        x17_test3.append(X_test3[i])\n",
    "    elif(i % 20 == 18):\n",
    "        x18_test3.append(X_test3[i])\n",
    "    elif(i % 20 == 19):\n",
    "        x19_test3.append(X_test3[i])\n",
    "        "
   ]
  },
  {
   "cell_type": "code",
   "execution_count": 15,
   "metadata": {},
   "outputs": [],
   "source": [
    "X_test1 = None"
   ]
  },
  {
   "cell_type": "code",
   "execution_count": 22,
   "metadata": {},
   "outputs": [],
   "source": [
    "X_test2 = None"
   ]
  },
  {
   "cell_type": "code",
   "execution_count": null,
   "metadata": {},
   "outputs": [],
   "source": [
    "X_test3 = None"
   ]
  },
  {
   "cell_type": "code",
   "execution_count": 16,
   "metadata": {},
   "outputs": [],
   "source": [
    "x0_test1 = np.array(x0_test1)\n",
    "x1_test1 = np.array(x1_test1)\n",
    "x2_test1 = np.array(x2_test1)\n",
    "x3_test1 = np.array(x3_test1)\n",
    "x4_test1 = np.array(x4_test1)\n",
    "x5_test1 = np.array(x5_test1)\n",
    "x6_test1 = np.array(x6_test1)\n",
    "x7_test1 = np.array(x7_test1)\n",
    "x8_test1 = np.array(x8_test1)\n",
    "x9_test1 = np.array(x9_test1)\n",
    "x10_test1 = np.array(x10_test1)\n",
    "x11_test1 = np.array(x11_test1)\n",
    "x12_test1 = np.array(x12_test1)\n",
    "x13_test1 = np.array(x13_test1)\n",
    "x14_test1 = np.array(x14_test1)\n",
    "x15_test1 = np.array(x15_test1)\n",
    "x16_test1 = np.array(x16_test1)\n",
    "x17_test1 = np.array(x17_test1)\n",
    "x18_test1 = np.array(x18_test1)\n",
    "x19_test1 = np.array(x19_test1)"
   ]
  },
  {
   "cell_type": "code",
   "execution_count": 23,
   "metadata": {},
   "outputs": [],
   "source": [
    "x0_test2 = np.array(x0_test2)\n",
    "x1_test2 = np.array(x1_test2)\n",
    "x2_test2 = np.array(x2_test2)\n",
    "x3_test2 = np.array(x3_test2)\n",
    "x4_test2 = np.array(x4_test2)\n",
    "x5_test2 = np.array(x5_test2)\n",
    "x6_test2 = np.array(x6_test2)\n",
    "x7_test2 = np.array(x7_test2)\n",
    "x8_test2 = np.array(x8_test2)\n",
    "x9_test2 = np.array(x9_test2)\n",
    "x10_test2 = np.array(x10_test2)\n",
    "x11_test2 = np.array(x11_test2)\n",
    "x12_test2 = np.array(x12_test2)\n",
    "x13_test2 = np.array(x13_test2)\n",
    "x14_test2 = np.array(x14_test2)\n",
    "x15_test2 = np.array(x15_test2)\n",
    "x16_test2 = np.array(x16_test2)\n",
    "x17_test2 = np.array(x17_test2)\n",
    "x18_test2 = np.array(x18_test2)\n",
    "x19_test2 = np.array(x19_test2)"
   ]
  },
  {
   "cell_type": "code",
   "execution_count": 39,
   "metadata": {
    "collapsed": true
   },
   "outputs": [
    {
     "ename": "NameError",
     "evalue": "name 'x0_test3' is not defined",
     "output_type": "error",
     "traceback": [
      "\u001b[1;31m---------------------------------------------------------------------------\u001b[0m",
      "\u001b[1;31mNameError\u001b[0m                                 Traceback (most recent call last)",
      "\u001b[1;32m<ipython-input-39-47c42801d7cc>\u001b[0m in \u001b[0;36m<module>\u001b[1;34m\u001b[0m\n\u001b[1;32m----> 1\u001b[1;33m \u001b[0mx0_test3\u001b[0m \u001b[1;33m=\u001b[0m \u001b[0mnp\u001b[0m\u001b[1;33m.\u001b[0m\u001b[0marray\u001b[0m\u001b[1;33m(\u001b[0m\u001b[0mx0_test3\u001b[0m\u001b[1;33m)\u001b[0m\u001b[1;33m\u001b[0m\u001b[1;33m\u001b[0m\u001b[0m\n\u001b[0m\u001b[0;32m      2\u001b[0m \u001b[0mx1_test3\u001b[0m \u001b[1;33m=\u001b[0m \u001b[0mnp\u001b[0m\u001b[1;33m.\u001b[0m\u001b[0marray\u001b[0m\u001b[1;33m(\u001b[0m\u001b[0mx1_test3\u001b[0m\u001b[1;33m)\u001b[0m\u001b[1;33m\u001b[0m\u001b[1;33m\u001b[0m\u001b[0m\n\u001b[0;32m      3\u001b[0m \u001b[0mx2_test3\u001b[0m \u001b[1;33m=\u001b[0m \u001b[0mnp\u001b[0m\u001b[1;33m.\u001b[0m\u001b[0marray\u001b[0m\u001b[1;33m(\u001b[0m\u001b[0mx2_test3\u001b[0m\u001b[1;33m)\u001b[0m\u001b[1;33m\u001b[0m\u001b[1;33m\u001b[0m\u001b[0m\n\u001b[0;32m      4\u001b[0m \u001b[0mx3_test3\u001b[0m \u001b[1;33m=\u001b[0m \u001b[0mnp\u001b[0m\u001b[1;33m.\u001b[0m\u001b[0marray\u001b[0m\u001b[1;33m(\u001b[0m\u001b[0mx3_test3\u001b[0m\u001b[1;33m)\u001b[0m\u001b[1;33m\u001b[0m\u001b[1;33m\u001b[0m\u001b[0m\n\u001b[0;32m      5\u001b[0m \u001b[0mx4_test3\u001b[0m \u001b[1;33m=\u001b[0m \u001b[0mnp\u001b[0m\u001b[1;33m.\u001b[0m\u001b[0marray\u001b[0m\u001b[1;33m(\u001b[0m\u001b[0mx4_test3\u001b[0m\u001b[1;33m)\u001b[0m\u001b[1;33m\u001b[0m\u001b[1;33m\u001b[0m\u001b[0m\n",
      "\u001b[1;31mNameError\u001b[0m: name 'x0_test3' is not defined"
     ]
    }
   ],
   "source": [
    "x0_test3 = np.array(x0_test3)\n",
    "x1_test3 = np.array(x1_test3)\n",
    "x2_test3 = np.array(x2_test3)\n",
    "x3_test3 = np.array(x3_test3)\n",
    "x4_test3 = np.array(x4_test3)\n",
    "x5_test3 = np.array(x5_test3)\n",
    "x6_test3 = np.array(x6_test3)\n",
    "x7_test3 = np.array(x7_test3)\n",
    "x8_test3 = np.array(x8_test3)\n",
    "x9_test3 = np.array(x9_test3)\n",
    "x10_test3 = np.array(x10_test3)\n",
    "x11_test3 = np.array(x11_test3)\n",
    "x12_test3 = np.array(x12_test3)\n",
    "x13_test3 = np.array(x13_test3)\n",
    "x14_test3 = np.array(x14_test3)\n",
    "x15_test3 = np.array(x15_test3)\n",
    "x16_test3 = np.array(x16_test3)\n",
    "x17_test3 = np.array(x17_test3)\n",
    "x18_test3 = np.array(x18_test3)\n",
    "x19_test3 = np.array(x19_test3)"
   ]
  },
  {
   "cell_type": "markdown",
   "metadata": {},
   "source": [
    "## The Model"
   ]
  },
  {
   "cell_type": "code",
   "execution_count": 57,
   "metadata": {},
   "outputs": [],
   "source": [
    "from tensorflow.keras import layers\n",
    "\n",
    "inputs = [''] * 20\n",
    "xArray = [None] * 20\n",
    "\n",
    "for i in range(20):\n",
    "  inputs[i] = (keras.Input(shape=(227,227,3)))\n",
    "  xArray[i] = (layers.Conv2D(96, (11,11), strides=(4,4), input_shape = (227,227,3))) (inputs[i])\n",
    "\n",
    "added = layers.Add()(xArray)\n",
    "\n",
    "xx = layers.BatchNormalization()(added)\n",
    "\n",
    "xx = layers.MaxPooling2D(pool_size = (3,3), strides=(2,2))(xx)\n",
    "    \n",
    "xx = layers.Conv2D(256, (5,5), strides=(1,1))(xx)\n",
    "xx = layers.BatchNormalization()(xx)\n",
    "xx = layers.MaxPooling2D(pool_size = (3,3), strides=(2,2))(xx)\n",
    "    \n",
    "xx = layers.Conv2D(384, (3,3), strides=(1,1))(xx)\n",
    "xx = layers.Conv2D(384, (3,3), strides=(1,1))(xx)\n",
    "xx = layers.Conv2D(256, (3,3), strides=(1,1))(xx)\n",
    "    \n",
    "xx = layers.MaxPooling2D(pool_size = (3,3), strides=(2,2))(xx)\n",
    "    \n",
    "#dropout\n",
    "xx = layers.Dropout(0.2)(xx)\n",
    "\n",
    "xx = layers.Flatten()(xx)\n",
    "\n",
    "xx = layers.Dense(2048, activation='relu')(xx)\n",
    "xx = layers.Dense(2048, activation='relu')(xx)\n",
    "xx = layers.Dense(2048, activation='relu')(xx)\n",
    "\n",
    "outputs = layers.Dense(20, activation=tf.nn.softmax)(xx) # should be 101"
   ]
  },
  {
   "cell_type": "code",
   "execution_count": 58,
   "metadata": {},
   "outputs": [],
   "source": [
    "history = None\n",
    "model = None"
   ]
  },
  {
   "cell_type": "code",
   "execution_count": 59,
   "metadata": {},
   "outputs": [],
   "source": [
    "from tensorflow.keras.optimizers import SGD, Adam\n",
    "opt = SGD(lr=0.01)\n",
    "\n",
    "model = keras.Model(inputs=inputs, outputs=outputs)\n",
    "#model.summary()\n",
    "model.compile(loss='sparse_categorical_crossentropy',\n",
    "              optimizer=opt,\n",
    "              metrics=['accuracy'])"
   ]
  },
  {
   "cell_type": "code",
   "execution_count": 62,
   "metadata": {},
   "outputs": [
    {
     "name": "stdout",
     "output_type": "stream",
     "text": [
      "Train on 966 samples\n",
      "Epoch 1/20\n",
      "966/966 [==============================] - 473s 489ms/sample - loss: 2.8609 - accuracy: 0.1398\n",
      "Epoch 2/20\n",
      "966/966 [==============================] - 465s 481ms/sample - loss: 2.7065 - accuracy: 0.1801\n",
      "Epoch 3/20\n",
      "966/966 [==============================] - 462s 478ms/sample - loss: 2.6422 - accuracy: 0.2164\n",
      "Epoch 4/20\n",
      "966/966 [==============================] - 464s 480ms/sample - loss: 2.6444 - accuracy: 0.2464\n",
      "Epoch 5/20\n",
      "966/966 [==============================] - 460s 477ms/sample - loss: 2.5301 - accuracy: 0.2371\n",
      "Epoch 6/20\n",
      "966/966 [==============================] - 460s 477ms/sample - loss: 2.5504 - accuracy: 0.2516\n",
      "Epoch 7/20\n",
      "966/966 [==============================] - 458s 474ms/sample - loss: 2.5610 - accuracy: 0.2464\n",
      "Epoch 8/20\n",
      "966/966 [==============================] - 453s 469ms/sample - loss: 2.6035 - accuracy: 0.2381\n",
      "Epoch 9/20\n",
      "966/966 [==============================] - 458s 474ms/sample - loss: 2.4785 - accuracy: 0.2878\n",
      "Epoch 10/20\n",
      "966/966 [==============================] - 458s 474ms/sample - loss: 2.3774 - accuracy: 0.2961\n",
      "Epoch 11/20\n",
      "966/966 [==============================] - 458s 474ms/sample - loss: 2.4284 - accuracy: 0.2940\n",
      "Epoch 12/20\n",
      "966/966 [==============================] - 459s 476ms/sample - loss: 2.5362 - accuracy: 0.2598\n",
      "Epoch 13/20\n",
      "966/966 [==============================] - 441s 456ms/sample - loss: 2.6473 - accuracy: 0.2557\n",
      "Epoch 14/20\n",
      "966/966 [==============================] - 450s 466ms/sample - loss: 2.4581 - accuracy: 0.2795\n",
      "Epoch 15/20\n",
      "966/966 [==============================] - 458s 474ms/sample - loss: 5.7247 - accuracy: 0.2536\n"
     ]
    }
   ],
   "source": [
    "early_stopping_monitor = EarlyStopping(monitor='accuracy', patience=5, restore_best_weights=True)\n",
    "history = model.fit([x0_train1,x1_train1,x2_train1,x3_train1,x4_train1,x5_train1,\n",
    "                     x6_train1,x7_train1,x8_train1,x9_train1,x10_train1,x11_train1,\n",
    "                     x12_train1,x13_train1,x14_train1,x15_train1,x16_train1,\n",
    "                     x17_train1,x18_train1,x19_train1],\n",
    "                    y_train1,\n",
    "                    batch_size=1,\n",
    "                    epochs=20,\n",
    "                    callbacks=[early_stopping_monitor],\n",
    "                    shuffle=True,\n",
    "                    validation_split=0)"
   ]
  },
  {
   "cell_type": "code",
   "execution_count": null,
   "metadata": {
    "scrolled": true
   },
   "outputs": [
    {
     "name": "stdout",
     "output_type": "stream",
     "text": [
      "Train on 380 samples\n",
      "Epoch 1/20\n",
      "380/380 [==============================] - 126s 330ms/sample - loss: 3.3158 - accuracy: 0.0737\n",
      "Epoch 2/20\n",
      "380/380 [==============================] - 88s 233ms/sample - loss: 3.0879 - accuracy: 0.0974\n",
      "Epoch 3/20\n",
      "380/380 [==============================] - 84s 222ms/sample - loss: 3.0014 - accuracy: 0.1237\n",
      "Epoch 4/20\n",
      "380/380 [==============================] - 83s 219ms/sample - loss: 2.7817 - accuracy: 0.1895\n",
      "Epoch 5/20\n",
      "372/380 [============================>.] - ETA: 1s - loss: 2.8329 - accuracy: 0.1720"
     ]
    }
   ],
   "source": [
    "early_stopping_monitor = EarlyStopping(monitor='accuracy', patience=5, restore_best_weights=True)\n",
    "history = model.fit([x0_test1,x1_test1,x2_test1,x3_test1,x4_test1,x5_test1,\n",
    "                     x6_test1,x7_test1,x8_test1,x9_test1,x10_test1,x11_test1,\n",
    "                     x12_test1,x13_test1,x14_test1,x15_test1,x16_test1,\n",
    "                     x17_test1,x18_test1,x19_test1],\n",
    "                    y_test1,\n",
    "                    batch_size=1,\n",
    "                    epochs=20,\n",
    "                    callbacks=[early_stopping_monitor],\n",
    "                    shuffle=True,\n",
    "                    validation_split=0.0)"
   ]
  },
  {
   "cell_type": "code",
   "execution_count": 65,
   "metadata": {},
   "outputs": [
    {
     "name": "stdout",
     "output_type": "stream",
     "text": [
      "Train on 370 samples\n",
      "Epoch 1/20\n",
      "370/370 [==============================] - 186s 502ms/sample - loss: 2.9235 - accuracy: 0.2054\n",
      "Epoch 2/20\n",
      "370/370 [==============================] - 127s 342ms/sample - loss: 11.5862 - accuracy: 0.0919\n",
      "Epoch 3/20\n",
      "370/370 [==============================] - 125s 338ms/sample - loss: 15.2904 - accuracy: 0.0514\n",
      "Epoch 4/20\n",
      "370/370 [==============================] - 125s 337ms/sample - loss: 15.2904 - accuracy: 0.0514\n",
      "Epoch 5/20\n",
      "370/370 [==============================] - 124s 334ms/sample - loss: 15.2904 - accuracy: 0.0514\n",
      "Epoch 6/20\n",
      "370/370 [==============================] - 130s 351ms/sample - loss: 15.2904 - accuracy: 0.0514\n"
     ]
    }
   ],
   "source": [
    "early_stopping_monitor = EarlyStopping(monitor='accuracy', patience=5, restore_best_weights=True)\n",
    "history = model.fit([x0_test2,x1_test2,x2_test2,x3_test2,x4_test2,x5_test2,\n",
    "                     x6_test2,x7_test2,x8_test2,x9_test2,x10_test2,x11_test2,\n",
    "                     x12_test2,x13_test2,x14_test2,x15_test2,x16_test2,\n",
    "                     x17_test2,x18_test2,x19_test2],\n",
    "                    y_test2,\n",
    "                    batch_size=1,\n",
    "                    epochs=20,\n",
    "                    callbacks=[early_stopping_monitor],\n",
    "                    shuffle=True,\n",
    "                    validation_split=0.0)"
   ]
  }
 ],
 "metadata": {
  "kernelspec": {
   "display_name": "Python 3",
   "language": "python",
   "name": "python3"
  },
  "language_info": {
   "codemirror_mode": {
    "name": "ipython",
    "version": 3
   },
   "file_extension": ".py",
   "mimetype": "text/x-python",
   "name": "python",
   "nbconvert_exporter": "python",
   "pygments_lexer": "ipython3",
   "version": "3.7.3"
  }
 },
 "nbformat": 4,
 "nbformat_minor": 2
}
