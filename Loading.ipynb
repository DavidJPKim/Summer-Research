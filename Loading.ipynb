{
 "cells": [
  {
   "cell_type": "markdown",
   "metadata": {},
   "source": [
    "# load images, sort, dump to pickle file"
   ]
  },
  {
   "cell_type": "code",
   "execution_count": 1,
   "metadata": {},
   "outputs": [],
   "source": [
    "from __future__ import absolute_import, division, print_function, unicode_literals\n",
    "\n",
    "import tensorflow as tf\n",
    "from tensorflow import keras\n",
    "#import tensorflow_hub as hub\n",
    "from tensorflow.keras.layers import Dense, Dropout, Activation, Flatten, Conv2D, MaxPooling2D\n",
    "from tensorflow.keras.models import Sequential\n",
    "import pickle\n",
    "\n",
    "import numpy as np\n",
    "import pandas as pd\n",
    "import matplotlib.pyplot as plt\n",
    "import os\n",
    "import cv2"
   ]
  },
  {
   "cell_type": "code",
   "execution_count": 2,
   "metadata": {},
   "outputs": [],
   "source": [
    "WorkingDir = 'F:/'\n",
    "TestFrames1DIR = WorkingDir + 'TestFrames1.2/'\n",
    "TestFrames2DIR = WorkingDir + 'TestFrames2.2/'\n",
    "TestFrames3DIR = WorkingDir + 'TestFrames3.2/'\n",
    "TrainFrames1DIR = WorkingDir + 'TrainFrames1.2/'\n",
    "TrainFrames2DIR = WorkingDir + 'TestFrames2.2/'\n",
    "TrainFrames3DIR = WorkingDir + 'TestFrames3.2/'\n",
    "\n",
    "CATEGORIES = ['ApplyEyeMakeup', 'ApplyLipstick', 'Archery', 'BabyCrawling', 'BalanceBeam', 'BandMarching',\n",
    "              'BaseballPitch', 'Basketball', 'BasketballDunk', 'BenchPress', 'Biking', 'Billiards', 'BlowDryHair',\n",
    "              'BlowingCandles', 'BodyWeightSquats', 'Bowling', 'BoxingPunchingBag', 'BoxingSpeedBag', 'Breaststroke',\n",
    "              'BrushingTeeth', 'CleanandJerk', 'CliffDiving', 'CricketBowling', 'CricketShot', 'CuttingInKitchen',\n",
    "              'Diving', 'Drumming', 'Fencing', 'FieldHockeyPenalty', 'FloorGymnastics', 'FrisbeeCatch', 'FrontCrawl',\n",
    "              'GolfSwing', 'Haircut', 'HammerThrow', 'Hammering', 'HandstandPushups', 'HandstandWalking',\n",
    "              'HeadMassage', 'HighJump', 'HorseRace', 'HorseRiding', 'HulaHoop', 'IceDancing', 'JavelinThrow',\n",
    "              'JugglingBalls', 'JumpRope', 'JumpingJack', 'Kayaking', 'Knitting', 'LongJump', 'Lunges',\n",
    "              'MilitaryParade', 'Mixing', 'MoppingFloor', 'Nunchucks', 'ParallelBars', 'PizzaTossing',\n",
    "              'PlayingGuitar', 'PlayingPiano', 'PlayingTabla', 'PlayingViolin', 'PlayingCello', 'PlayingDaf',\n",
    "              'PlayingDhol', 'PlayingFlute', 'PlayingSitar', 'PoleVault', 'PommelHorse', 'PullUps', 'Punch',\n",
    "              'PushUps', 'Rafting', 'RockClimbingIndoor', 'RopeClimbing', 'Rowing', 'SalsaSpin', 'ShavingBeard',\n",
    "              'Shotput', 'SkateBoarding', 'Skiing', 'Skijet', 'SkyDiving', 'SoccerJuggling', 'SoccerPenalty',\n",
    "              'StillRings', 'SumoWrestling', 'Surfing', 'Swing', 'TableTennisShot', 'TaiChi', 'TennisSwing',\n",
    "              'ThrowDiscus', 'TrampolineJumping', 'Typing', 'UnevenBars', 'VolleyballSpiking', 'WalkingWithDog',\n",
    "              'WallPushups', 'WritingOnBoard', 'YoYo']\n"
   ]
  },
  {
   "cell_type": "code",
   "execution_count": 3,
   "metadata": {},
   "outputs": [],
   "source": [
    "def load_videos(directory, max_categories=101): # by default uses all categories\n",
    "    data = []\n",
    "    cat_num = 0\n",
    "    \n",
    "    for category in CATEGORIES:\n",
    "        if(cat_num >= max_categories):\n",
    "            break\n",
    "        pathCat = os.path.join(directory, category)\n",
    "        pathVid = directory + str(category)\n",
    "\n",
    "        print( str(cat_num) + ': ' + category )\n",
    "        for video in os.listdir(pathVid):\n",
    "            pathImg = pathVid + '/' + str(video)\n",
    "            \n",
    "            for img in os.listdir(pathImg):\n",
    "                img_array = cv2.imread(pathImg + '/' + img)\n",
    "                data.append([np.array(img_array), cat_num])\n",
    "            \n",
    "        cat_num += 1\n",
    "    print('done')\n",
    "    return data"
   ]
  },
  {
   "cell_type": "code",
   "execution_count": 4,
   "metadata": {},
   "outputs": [],
   "source": [
    "def sort_by_frame(testing_data):\n",
    "    X = []\n",
    "    y = []\n",
    "\n",
    "\n",
    "    for features, label in testing_data:\n",
    "        # put data from 0-255 into scale of 0-1\n",
    "        X.append(features / 255.0)\n",
    "        y.append(label)\n",
    "\n",
    "\n",
    "    X = np.array(X) # convert to numpy array\n",
    "\n",
    "    i=0\n",
    "    # 20 arrays\n",
    "    # X2[0] holds frame 0 of each video, X2[1] holds frame 1, etc.\n",
    "    X2 = [[],[],[],[],[],[],[],[],[],[],[],[],[],[],[],[],[],[],[],[]]\n",
    "\n",
    "    # holds the category tag of the videos; y2[0] is for the 0th frames, etc.\n",
    "    y2 = []\n",
    "\n",
    "    # split each viedo along the columns of X2\n",
    "    for frame in X:\n",
    "        X2[ i % 20 ].append(frame)\n",
    "\n",
    "        if i % 20 == 0:\n",
    "            # add the video's tag to y2\n",
    "            y2.append(y[i]) \n",
    "\n",
    "        i+=1\n",
    "        if i % 1000 == 0:\n",
    "            print('frame ' + str(i) + ' processed')\n",
    "\n",
    "    X = None # free up storage\n",
    "\n",
    "    print('done')\n",
    "    return X2, y2"
   ]
  },
  {
   "cell_type": "code",
   "execution_count": 5,
   "metadata": {},
   "outputs": [],
   "source": [
    "def get_for_predict(data, index):\n",
    "    temp = [[],[],[],[],[],[],[],[],[],[],[],[],[],[],[],[],[],[],[],[]]\n",
    "    \n",
    "    i=0\n",
    "    for column in data:\n",
    "        temp[i].append(column[index])\n",
    "        i+=1\n",
    "    \n",
    "    return temp  # one set of 20 frames"
   ]
  },
  {
   "cell_type": "code",
   "execution_count": 6,
   "metadata": {},
   "outputs": [],
   "source": [
    "def quickdump(data, name):\n",
    "    directory = 'pickle/' + name\n",
    "    pickle_out = open(directory, 'wb')\n",
    "    pickle.dump(data, pickle_out, protocol=4)\n",
    "    pickle_out.close()"
   ]
  },
  {
   "cell_type": "markdown",
   "metadata": {},
   "source": [
    "## Load in Testing1 Data"
   ]
  },
  {
   "cell_type": "code",
   "execution_count": 7,
   "metadata": {},
   "outputs": [
    {
     "name": "stdout",
     "output_type": "stream",
     "text": [
      "0: ApplyEyeMakeup\n",
      "1: ApplyLipstick\n",
      "2: Archery\n",
      "3: BabyCrawling\n",
      "4: BalanceBeam\n",
      "5: BandMarching\n",
      "6: BaseballPitch\n",
      "7: Basketball\n",
      "8: BasketballDunk\n",
      "9: BenchPress\n",
      "10: Biking\n",
      "11: Billiards\n",
      "12: BlowDryHair\n",
      "13: BlowingCandles\n",
      "14: BodyWeightSquats\n",
      "15: Bowling\n",
      "16: BoxingPunchingBag\n",
      "17: BoxingSpeedBag\n",
      "18: Breaststroke\n",
      "19: BrushingTeeth\n",
      "20: CleanandJerk\n",
      "21: CliffDiving\n",
      "22: CricketBowling\n",
      "23: CricketShot\n",
      "24: CuttingInKitchen\n",
      "25: Diving\n",
      "26: Drumming\n",
      "27: Fencing\n",
      "28: FieldHockeyPenalty\n",
      "29: FloorGymnastics\n",
      "30: FrisbeeCatch\n",
      "31: FrontCrawl\n",
      "32: GolfSwing\n",
      "33: Haircut\n",
      "34: HammerThrow\n",
      "35: Hammering\n",
      "36: HandstandPushups\n",
      "37: HandstandWalking\n",
      "38: HeadMassage\n",
      "39: HighJump\n",
      "40: HorseRace\n",
      "41: HorseRiding\n",
      "42: HulaHoop\n",
      "43: IceDancing\n",
      "44: JavelinThrow\n",
      "45: JugglingBalls\n",
      "46: JumpRope\n",
      "47: JumpingJack\n",
      "48: Kayaking\n",
      "49: Knitting\n",
      "50: LongJump\n",
      "51: Lunges\n",
      "52: MilitaryParade\n",
      "53: Mixing\n",
      "54: MoppingFloor\n",
      "55: Nunchucks\n",
      "56: ParallelBars\n",
      "57: PizzaTossing\n",
      "58: PlayingGuitar\n",
      "59: PlayingPiano\n",
      "60: PlayingTabla\n",
      "61: PlayingViolin\n",
      "62: PlayingCello\n",
      "63: PlayingDaf\n",
      "64: PlayingDhol\n",
      "65: PlayingFlute\n",
      "66: PlayingSitar\n",
      "67: PoleVault\n",
      "68: PommelHorse\n",
      "69: PullUps\n",
      "70: Punch\n",
      "71: PushUps\n",
      "72: Rafting\n",
      "73: RockClimbingIndoor\n",
      "74: RopeClimbing\n",
      "75: Rowing\n",
      "76: SalsaSpin\n",
      "77: ShavingBeard\n",
      "78: Shotput\n",
      "79: SkateBoarding\n",
      "80: Skiing\n",
      "81: Skijet\n",
      "82: SkyDiving\n",
      "83: SoccerJuggling\n",
      "84: SoccerPenalty\n",
      "85: StillRings\n",
      "86: SumoWrestling\n",
      "87: Surfing\n",
      "88: Swing\n",
      "89: TableTennisShot\n",
      "90: TaiChi\n",
      "91: TennisSwing\n",
      "92: ThrowDiscus\n",
      "93: TrampolineJumping\n",
      "94: Typing\n",
      "95: UnevenBars\n",
      "96: VolleyballSpiking\n",
      "97: WalkingWithDog\n",
      "98: WallPushups\n",
      "99: WritingOnBoard\n",
      "100: YoYo\n",
      "done\n"
     ]
    }
   ],
   "source": [
    "testing_data1 = load_videos(TestFrames1DIR)"
   ]
  },
  {
   "cell_type": "code",
   "execution_count": 8,
   "metadata": {},
   "outputs": [
    {
     "ename": "MemoryError",
     "evalue": "",
     "output_type": "error",
     "traceback": [
      "\u001b[1;31m---------------------------------------------------------------------------\u001b[0m",
      "\u001b[1;31mMemoryError\u001b[0m                               Traceback (most recent call last)",
      "\u001b[1;32m<ipython-input-8-4689494bea0a>\u001b[0m in \u001b[0;36m<module>\u001b[1;34m\u001b[0m\n\u001b[1;32m----> 1\u001b[1;33m \u001b[0mX_test1\u001b[0m\u001b[1;33m,\u001b[0m \u001b[0my_test1\u001b[0m \u001b[1;33m=\u001b[0m \u001b[0msort_by_frame\u001b[0m\u001b[1;33m(\u001b[0m\u001b[0mtesting_data1\u001b[0m\u001b[1;33m)\u001b[0m\u001b[1;33m\u001b[0m\u001b[1;33m\u001b[0m\u001b[0m\n\u001b[0m\u001b[0;32m      2\u001b[0m \u001b[0mtesting_data1\u001b[0m \u001b[1;33m=\u001b[0m \u001b[1;32mNone\u001b[0m \u001b[1;31m# free up storage\u001b[0m\u001b[1;33m\u001b[0m\u001b[1;33m\u001b[0m\u001b[0m\n",
      "\u001b[1;32m<ipython-input-4-4488497a4176>\u001b[0m in \u001b[0;36msort_by_frame\u001b[1;34m(testing_data)\u001b[0m\n\u001b[0;32m      6\u001b[0m     \u001b[1;32mfor\u001b[0m \u001b[0mfeatures\u001b[0m\u001b[1;33m,\u001b[0m \u001b[0mlabel\u001b[0m \u001b[1;32min\u001b[0m \u001b[0mtesting_data\u001b[0m\u001b[1;33m:\u001b[0m\u001b[1;33m\u001b[0m\u001b[1;33m\u001b[0m\u001b[0m\n\u001b[0;32m      7\u001b[0m         \u001b[1;31m# put data from 0-255 into scale of 0-1\u001b[0m\u001b[1;33m\u001b[0m\u001b[1;33m\u001b[0m\u001b[1;33m\u001b[0m\u001b[0m\n\u001b[1;32m----> 8\u001b[1;33m         \u001b[0mX\u001b[0m\u001b[1;33m.\u001b[0m\u001b[0mappend\u001b[0m\u001b[1;33m(\u001b[0m\u001b[0mfeatures\u001b[0m \u001b[1;33m/\u001b[0m \u001b[1;36m255.0\u001b[0m\u001b[1;33m)\u001b[0m\u001b[1;33m\u001b[0m\u001b[1;33m\u001b[0m\u001b[0m\n\u001b[0m\u001b[0;32m      9\u001b[0m         \u001b[0my\u001b[0m\u001b[1;33m.\u001b[0m\u001b[0mappend\u001b[0m\u001b[1;33m(\u001b[0m\u001b[0mlabel\u001b[0m\u001b[1;33m)\u001b[0m\u001b[1;33m\u001b[0m\u001b[1;33m\u001b[0m\u001b[0m\n\u001b[0;32m     10\u001b[0m \u001b[1;33m\u001b[0m\u001b[0m\n",
      "\u001b[1;31mMemoryError\u001b[0m: "
     ]
    }
   ],
   "source": [
    "X_test1, y_test1 = sort_by_frame(testing_data1)\n",
    "testing_data1 = None # free up storage"
   ]
  },
  {
   "cell_type": "code",
   "execution_count": null,
   "metadata": {},
   "outputs": [],
   "source": [
    "quickdump(X_test1, 'testing_images1_101CAT.pickle')\n",
    "X_test1 = None\n",
    "quickdump(y_test1, 'testing_labels1_101CAT.pickle')\n",
    "y_test1 = None"
   ]
  },
  {
   "cell_type": "markdown",
   "metadata": {},
   "source": [
    "## Load in Testing2 Data"
   ]
  },
  {
   "cell_type": "code",
   "execution_count": null,
   "metadata": {},
   "outputs": [],
   "source": [
    "testing_data2 = load_videos(TestFrames2DIR)"
   ]
  },
  {
   "cell_type": "code",
   "execution_count": null,
   "metadata": {},
   "outputs": [],
   "source": [
    "X_test2, y_test2 = sort_by_frame(testing_data2)\n",
    "testing_data2 = None"
   ]
  },
  {
   "cell_type": "code",
   "execution_count": null,
   "metadata": {},
   "outputs": [],
   "source": [
    "quickdump(X_test2, 'testing_images2_101CAT.pickle')\n",
    "X_test2 = None\n",
    "quickdump(y_test2, 'testing_labels2_101CAT.pickle')\n",
    "y_test2 = None"
   ]
  },
  {
   "cell_type": "markdown",
   "metadata": {},
   "source": [
    "## Load in Testing3 Data"
   ]
  },
  {
   "cell_type": "code",
   "execution_count": null,
   "metadata": {
    "scrolled": true
   },
   "outputs": [],
   "source": [
    "testing_data3 = load_videos(TestFrames3DIR)"
   ]
  },
  {
   "cell_type": "code",
   "execution_count": null,
   "metadata": {},
   "outputs": [],
   "source": [
    "X_test3, y_test3 = sort_by_frame(testing_data3)\n",
    "testing_data3 = None"
   ]
  },
  {
   "cell_type": "code",
   "execution_count": null,
   "metadata": {},
   "outputs": [],
   "source": [
    "quickdump(X_test3, 'testing_images3_101CAT.pickle')\n",
    "X_test3 = None\n",
    "quickdump(y_test3, 'testing_labels3_101CAT.pickle')\n",
    "y_test3 = None"
   ]
  },
  {
   "cell_type": "markdown",
   "metadata": {},
   "source": [
    "## Loading Training1"
   ]
  },
  {
   "cell_type": "code",
   "execution_count": null,
   "metadata": {
    "scrolled": true
   },
   "outputs": [],
   "source": [
    "training_data1 = load_videos(TrainFrames1DIR)"
   ]
  },
  {
   "cell_type": "code",
   "execution_count": null,
   "metadata": {},
   "outputs": [],
   "source": [
    "X_train1, y_train1 = sort_by_frame(training_data3)\n",
    "training_data1 = None"
   ]
  },
  {
   "cell_type": "code",
   "execution_count": null,
   "metadata": {},
   "outputs": [],
   "source": [
    "quickdump(X_train1, 'training_images1_101CAT.pickle')\n",
    "X_train1 = None\n",
    "quickdump(y_train1, 'training_labels1_101CAT.pickle')\n",
    "y_train1 = None"
   ]
  },
  {
   "cell_type": "markdown",
   "metadata": {},
   "source": [
    "## Loading Training2"
   ]
  },
  {
   "cell_type": "code",
   "execution_count": null,
   "metadata": {
    "scrolled": true
   },
   "outputs": [],
   "source": [
    "training_data2 = load_videos(TrainFrames2DIR)"
   ]
  },
  {
   "cell_type": "code",
   "execution_count": null,
   "metadata": {},
   "outputs": [],
   "source": [
    "X_train2, y_train2 = sort_by_frame(training_data3)\n",
    "training_data2 = None"
   ]
  },
  {
   "cell_type": "code",
   "execution_count": null,
   "metadata": {},
   "outputs": [],
   "source": [
    "quickdump(X_train2, 'training_images2_101CAT.pickle')\n",
    "X_train2 = None\n",
    "quickdump(y_train2, 'training_labels2_101CAT.pickle')\n",
    "y_train2 = None"
   ]
  },
  {
   "cell_type": "markdown",
   "metadata": {},
   "source": [
    "## Loading Training3"
   ]
  },
  {
   "cell_type": "code",
   "execution_count": null,
   "metadata": {
    "scrolled": true
   },
   "outputs": [],
   "source": [
    "training_data3 = load_videos(TrainFrames3DIR)"
   ]
  },
  {
   "cell_type": "code",
   "execution_count": null,
   "metadata": {},
   "outputs": [],
   "source": [
    "X_train3, y_train3 = sort_by_frame(training_data3)\n",
    "training_data3 = None"
   ]
  },
  {
   "cell_type": "code",
   "execution_count": null,
   "metadata": {},
   "outputs": [],
   "source": [
    "quickdump(X_train3, 'training_images3_101CAT.pickle')\n",
    "X_train3 = None\n",
    "quickdump(y_train3, 'training_labels3_101CAT.pickle')\n",
    "y_train3 = None"
   ]
  }
 ],
 "metadata": {
  "kernelspec": {
   "display_name": "Python 3",
   "language": "python",
   "name": "python3"
  },
  "language_info": {
   "codemirror_mode": {
    "name": "ipython",
    "version": 3
   },
   "file_extension": ".py",
   "mimetype": "text/x-python",
   "name": "python",
   "nbconvert_exporter": "python",
   "pygments_lexer": "ipython3",
   "version": "3.7.3"
  }
 },
 "nbformat": 4,
 "nbformat_minor": 2
}
