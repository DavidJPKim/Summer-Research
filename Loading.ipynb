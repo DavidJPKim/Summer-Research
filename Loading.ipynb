{
 "cells": [
  {
   "cell_type": "code",
   "execution_count": null,
   "metadata": {},
   "outputs": [],
   "source": [
    "# load images, sort, dump to pickle file"
   ]
  },
  {
   "cell_type": "code",
   "execution_count": 1,
   "metadata": {},
   "outputs": [],
   "source": [
    "from __future__ import absolute_import, division, print_function, unicode_literals\n",
    "\n",
    "import tensorflow as tf\n",
    "from tensorflow import keras\n",
    "#import tensorflow_hub as hub\n",
    "from tensorflow.keras.layers import Dense, Dropout, Activation, Flatten, Conv2D, MaxPooling2D\n",
    "from tensorflow.keras.models import Sequential\n",
    "import pickle\n",
    "\n",
    "import numpy as np\n",
    "import pandas as pd\n",
    "import matplotlib.pyplot as plt\n",
    "import os\n",
    "import cv2"
   ]
  },
  {
   "cell_type": "markdown",
   "metadata": {},
   "source": [
    "## Load in Testing1 Data"
   ]
  },
  {
   "cell_type": "code",
   "execution_count": 2,
   "metadata": {},
   "outputs": [],
   "source": [
    "WorkingDir = 'C:\\\\Users\\\\Fletcher\\\\Documents\\\\McDaniel\\\\Summer 2019 research\\\\Python Code\\\\Images-Videos\\\\'\n",
    "TestFrames1DIR = WorkingDir + 'TestFrames1.1\\\\'\n",
    "TestFrames2DIR = WorkingDir + 'TestFrames2.1\\\\'\n",
    "TestFrames3DIR = WorkingDir + 'TestFrames3.1\\\\'\n",
    "TrainFrames1DIR = WorkingDir + 'TrainFrames1.1\\\\'\n",
    "TrainFrames2DIR = WorkingDir + 'TestFrames2.1\\\\'\n",
    "TrainFrames3DIR = WorkingDir + 'TestFrames3.1\\\\'\n",
    "\n",
    "CATEGORIES = ['ApplyEyeMakeup', 'ApplyLipstick', 'Archery', 'BabyCrawling', 'BalanceBeam', 'BandMarching',\n",
    "              'BaseballPitch', 'Basketball', 'BasketballDunk', 'BenchPress', 'Biking', 'Billiards', 'BlowDryHair',\n",
    "              'BlowingCandles', 'BodyWeightSquats', 'Bowling', 'BoxingPunchingBag', 'BoxingSpeedBag', 'Breaststroke',\n",
    "              'BrushingTeeth', 'CleanandJerk', 'CliffDiving', 'CricketBowling', 'CricketShot', 'CuttingInKitchen',\n",
    "              'Diving', 'Drumming', 'Fencing', 'FieldHockeyPenalty', 'FloorGymnastics', 'FrisbeeCatch', 'FrontCrawl',\n",
    "              'GolfSwing', 'Haircut', 'HammerThrow', 'Hammering', 'HandstandPushups', 'HandstandWalking',\n",
    "              'HeadMassage', 'HighJump', 'HorseRace', 'HorseRiding', 'HulaHoop', 'IceDancing', 'JavelinThrow',\n",
    "              'JugglingBalls', 'JumpRope', 'JumpingJack', 'Kayaking', 'Knitting', 'LongJump', 'Lunges',\n",
    "              'MilitaryParade', 'Mixing', 'MoppingFloor', 'Nunchucks', 'ParallelBars', 'PizzaTossing',\n",
    "              'PlayingGuitar', 'PlayingPiano', 'PlayingTabla', 'PlayingViolin', 'PlayingCello', 'PlayingDaf',\n",
    "              'PlayingDhol', 'PlayingFlute', 'PlayingSitar', 'PoleVault', 'PommelHorse', 'PullUps', 'Punch',\n",
    "              'PushUps', 'Rafting', 'RockClimbingIndoor', 'RopeClimbing', 'Rowing', 'SalsaSpin', 'ShavingBeard',\n",
    "              'Shotput', 'SkateBoarding', 'Skiing', 'Skijet', 'SkyDiving', 'SoccerJuggling', 'SoccerPenalty',\n",
    "              'StillRings', 'SumoWrestling', 'Surfing', 'Swing', 'TableTennisShot', 'TaiChi', 'TennisSwing',\n",
    "              'ThrowDiscus', 'TrampolineJumping', 'Typing', 'UnevenBars', 'VolleyballSpiking', 'WalkingWithDog',\n",
    "              'WallPushups', 'WritingOnBoard', 'YoYo']\n"
   ]
  },
  {
   "cell_type": "code",
   "execution_count": 3,
   "metadata": {},
   "outputs": [],
   "source": [
    "def load_videos(directory, max_categories=101): # by default uses all categories\n",
    "    data = []\n",
    "    cat_num = 0\n",
    "    \n",
    "    for category in CATEGORIES:\n",
    "        if(cat_num >= max_categories):\n",
    "            break\n",
    "        pathCat = os.path.join(directory, category)\n",
    "        pathVid = directory + str(category)\n",
    "\n",
    "        print( str(cat_num) + ': ' + category )\n",
    "        for video in os.listdir(pathVid):\n",
    "            pathImg = pathVid + '/' + str(video)\n",
    "            \n",
    "            for img in os.listdir(pathImg):\n",
    "                img_array = cv2.imread(pathImg + '/' + img)\n",
    "                data.append([np.array(img_array), cat_num])\n",
    "            \n",
    "        cat_num += 1\n",
    "    print('done')\n",
    "    return data"
   ]
  },
  {
   "cell_type": "code",
   "execution_count": 4,
   "metadata": {},
   "outputs": [],
   "source": [
    "def sort_by_frame(testing_data):\n",
    "    X = []\n",
    "    y = []\n",
    "\n",
    "\n",
    "    for features, label in testing_data:\n",
    "        # put data from 0-255 into scale of 0-1\n",
    "        X.append(features / 255.0)\n",
    "        y.append(label)\n",
    "\n",
    "\n",
    "    X = np.array(X) # convert to numpy array\n",
    "\n",
    "    i=0\n",
    "    # 20 arrays\n",
    "    # X2[0] holds frame 0 of each video, X2[1] holds frame 1, etc.\n",
    "    X2 = [[],[],[],[],[],[],[],[],[],[],[],[],[],[],[],[],[],[],[],[]]\n",
    "\n",
    "    # holds the category tag of the videos; y2[0] is for the 0th frames, etc.\n",
    "    y2 = []\n",
    "\n",
    "    # split each viedo along the columns of X2\n",
    "    for frame in X:\n",
    "        X2[ i % 20 ].append(frame)\n",
    "\n",
    "        if i % 20 == 0:\n",
    "            # add the video's tag to y2\n",
    "            y2.append(y[i]) \n",
    "\n",
    "        i+=1\n",
    "        if i % 1000 == 0:\n",
    "            print('frame ' + str(i) + ' processed')\n",
    "\n",
    "    X = None # free up storage\n",
    "\n",
    "    print('done')\n",
    "    return X2, y2"
   ]
  },
  {
   "cell_type": "code",
   "execution_count": null,
   "metadata": {},
   "outputs": [],
   "source": [
    "def quickdump(data, directory):\n",
    "    pickle_out = open(directory, 'wb')\n",
    "    pickle.dump(data, pickle_out, protocol=4)\n",
    "    pickle_out.close()"
   ]
  },
  {
   "cell_type": "code",
   "execution_count": 5,
   "metadata": {},
   "outputs": [
    {
     "name": "stdout",
     "output_type": "stream",
     "text": [
      "0: ApplyEyeMakeup\n",
      "1: ApplyLipstick\n",
      "2: Archery\n",
      "3: BabyCrawling\n",
      "4: BalanceBeam\n",
      "5: BandMarching\n",
      "6: BaseballPitch\n",
      "7: Basketball\n",
      "done\n"
     ]
    }
   ],
   "source": [
    "testing_data1 = load_videos(TestFrames1DIR)"
   ]
  },
  {
   "cell_type": "code",
   "execution_count": 6,
   "metadata": {},
   "outputs": [
    {
     "name": "stdout",
     "output_type": "stream",
     "text": [
      "frame 1000 processed\n",
      "frame 2000 processed\n",
      "frame 3000 processed\n",
      "done\n"
     ]
    }
   ],
   "source": [
    "X_test1, y_test1 = sort_by_frame(testing_data1)\n",
    "testing_data1 = None # free up storage"
   ]
  },
  {
   "cell_type": "code",
   "execution_count": null,
   "metadata": {},
   "outputs": [],
   "source": [
    "quickdump(X_test1, 'testing_images1_20CAT.pickle')\n",
    "X_test1 = None\n",
    "quickdump(y_test1, 'testing_labels1_20CAT.pickle')\n",
    "y_test1 = None"
   ]
  },
  {
   "cell_type": "markdown",
   "metadata": {},
   "source": [
    "## Load in Testing2 Data"
   ]
  },
  {
   "cell_type": "code",
   "execution_count": 7,
   "metadata": {},
   "outputs": [
    {
     "name": "stdout",
     "output_type": "stream",
     "text": [
      "0: ApplyEyeMakeup\n",
      "1: ApplyLipstick\n",
      "2: Archery\n",
      "3: BabyCrawling\n",
      "4: BalanceBeam\n",
      "5: BandMarching\n",
      "6: BaseballPitch\n",
      "7: Basketball\n",
      "done\n"
     ]
    }
   ],
   "source": [
    "testing_data2 = load_videos(TestFrames2DIR)"
   ]
  },
  {
   "cell_type": "code",
   "execution_count": 8,
   "metadata": {},
   "outputs": [
    {
     "name": "stdout",
     "output_type": "stream",
     "text": [
      "frame 1000 processed\n",
      "frame 2000 processed\n",
      "done\n"
     ]
    }
   ],
   "source": [
    "X_test2, y_test2 = sort_by_frame(testing_data2)\n",
    "testing_data2 = None"
   ]
  },
  {
   "cell_type": "code",
   "execution_count": null,
   "metadata": {},
   "outputs": [],
   "source": [
    "quickdump(X_test2, 'testing_images2_20CAT.pickle')\n",
    "X_test2 = None\n",
    "quickdump(y_test2, 'testing_labels2_20CAT.pickle')\n",
    "y_test2 = None"
   ]
  },
  {
   "cell_type": "markdown",
   "metadata": {},
   "source": [
    "## Load in Testing3 Data"
   ]
  },
  {
   "cell_type": "code",
   "execution_count": 9,
   "metadata": {
    "scrolled": true
   },
   "outputs": [
    {
     "name": "stdout",
     "output_type": "stream",
     "text": [
      "0: ApplyEyeMakeup\n",
      "1: ApplyLipstick\n",
      "2: Archery\n",
      "3: BabyCrawling\n",
      "4: BalanceBeam\n",
      "5: BandMarching\n",
      "6: BaseballPitch\n",
      "7: Basketball\n",
      "done\n"
     ]
    }
   ],
   "source": [
    "testing_data3 = load_videos(TestFrames3DIR)"
   ]
  },
  {
   "cell_type": "code",
   "execution_count": 10,
   "metadata": {},
   "outputs": [
    {
     "name": "stdout",
     "output_type": "stream",
     "text": [
      "frame 1000 processed\n",
      "frame 2000 processed\n",
      "frame 3000 processed\n",
      "done\n"
     ]
    }
   ],
   "source": [
    "X_test3, y_test3 = sort_by_frame(testing_data3)\n",
    "testing_data3 = None"
   ]
  },
  {
   "cell_type": "code",
   "execution_count": null,
   "metadata": {},
   "outputs": [],
   "source": [
    "quickdump(X_test3, 'testing_images3_20CAT.pickle')\n",
    "X_test3 = None\n",
    "quickdump(y_test3, 'testing_labels3_20CAT.pickle')\n",
    "y_test3 = None"
   ]
  },
  {
   "cell_type": "markdown",
   "metadata": {},
   "source": [
    "## Loading Training1"
   ]
  },
  {
   "cell_type": "code",
   "execution_count": 9,
   "metadata": {
    "scrolled": true
   },
   "outputs": [
    {
     "name": "stdout",
     "output_type": "stream",
     "text": [
      "0: ApplyEyeMakeup\n",
      "1: ApplyLipstick\n",
      "2: Archery\n",
      "3: BabyCrawling\n",
      "4: BalanceBeam\n",
      "5: BandMarching\n",
      "6: BaseballPitch\n",
      "7: Basketball\n",
      "done\n"
     ]
    }
   ],
   "source": [
    "training_data1 = load_videos(TrainFrames1DIR)"
   ]
  },
  {
   "cell_type": "code",
   "execution_count": 10,
   "metadata": {},
   "outputs": [
    {
     "name": "stdout",
     "output_type": "stream",
     "text": [
      "frame 1000 processed\n",
      "frame 2000 processed\n",
      "frame 3000 processed\n",
      "done\n"
     ]
    }
   ],
   "source": [
    "X_train1, y_train1 = sort_by_frame(training_data3)\n",
    "training_data1 = None"
   ]
  },
  {
   "cell_type": "code",
   "execution_count": null,
   "metadata": {},
   "outputs": [],
   "source": [
    "quickdump(X_train1, 'training_images1_20CAT.pickle')\n",
    "X_train1 = None\n",
    "quickdump(y_train1, 'training_labels1_20CAT.pickle')\n",
    "y_train1 = None"
   ]
  },
  {
   "cell_type": "markdown",
   "metadata": {},
   "source": [
    "## Loading Training2"
   ]
  },
  {
   "cell_type": "code",
   "execution_count": 9,
   "metadata": {
    "scrolled": true
   },
   "outputs": [
    {
     "name": "stdout",
     "output_type": "stream",
     "text": [
      "0: ApplyEyeMakeup\n",
      "1: ApplyLipstick\n",
      "2: Archery\n",
      "3: BabyCrawling\n",
      "4: BalanceBeam\n",
      "5: BandMarching\n",
      "6: BaseballPitch\n",
      "7: Basketball\n",
      "done\n"
     ]
    }
   ],
   "source": [
    "training_data2 = load_videos(TrainFrames2DIR)"
   ]
  },
  {
   "cell_type": "code",
   "execution_count": 10,
   "metadata": {},
   "outputs": [
    {
     "name": "stdout",
     "output_type": "stream",
     "text": [
      "frame 1000 processed\n",
      "frame 2000 processed\n",
      "frame 3000 processed\n",
      "done\n"
     ]
    }
   ],
   "source": [
    "X_train2, y_train2 = sort_by_frame(training_data3)\n",
    "training_data2 = None"
   ]
  },
  {
   "cell_type": "code",
   "execution_count": null,
   "metadata": {},
   "outputs": [],
   "source": [
    "quickdump(X_train2, 'training_images2_20CAT.pickle')\n",
    "X_train2 = None\n",
    "quickdump(y_train2, 'training_labels2_20CAT.pickle')\n",
    "y_train2 = None"
   ]
  },
  {
   "cell_type": "markdown",
   "metadata": {},
   "source": [
    "## Loading Training3"
   ]
  },
  {
   "cell_type": "code",
   "execution_count": 9,
   "metadata": {
    "scrolled": true
   },
   "outputs": [
    {
     "name": "stdout",
     "output_type": "stream",
     "text": [
      "0: ApplyEyeMakeup\n",
      "1: ApplyLipstick\n",
      "2: Archery\n",
      "3: BabyCrawling\n",
      "4: BalanceBeam\n",
      "5: BandMarching\n",
      "6: BaseballPitch\n",
      "7: Basketball\n",
      "done\n"
     ]
    }
   ],
   "source": [
    "training_data3 = load_videos(TrainFrames3DIR)"
   ]
  },
  {
   "cell_type": "code",
   "execution_count": 10,
   "metadata": {},
   "outputs": [
    {
     "name": "stdout",
     "output_type": "stream",
     "text": [
      "frame 1000 processed\n",
      "frame 2000 processed\n",
      "frame 3000 processed\n",
      "done\n"
     ]
    }
   ],
   "source": [
    "X_train3, y_train3 = sort_by_frame(training_data3)\n",
    "training_data3 = None"
   ]
  },
  {
   "cell_type": "code",
   "execution_count": null,
   "metadata": {},
   "outputs": [],
   "source": [
    "quickdump(X_train3, 'training_images3_20CAT.pickle')\n",
    "X_train3 = None\n",
    "quickdump(y_train3, 'training_labels3_20CAT.pickle')\n",
    "y_train3 = None"
   ]
  }
 ],
 "metadata": {
  "kernelspec": {
   "display_name": "Python 3",
   "language": "python",
   "name": "python3"
  },
  "language_info": {
   "codemirror_mode": {
    "name": "ipython",
    "version": 3
   },
   "file_extension": ".py",
   "mimetype": "text/x-python",
   "name": "python",
   "nbconvert_exporter": "python",
   "pygments_lexer": "ipython3",
   "version": "3.7.3"
  }
 },
 "nbformat": 4,
 "nbformat_minor": 2
}
