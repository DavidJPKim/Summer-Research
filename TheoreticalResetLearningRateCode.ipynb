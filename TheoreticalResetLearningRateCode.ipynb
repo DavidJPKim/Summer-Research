{
 "cells": [
  {
   "cell_type": "code",
   "execution_count": null,
   "metadata": {},
   "outputs": [],
   "source": [
    "#reset learning rate callback method\n",
    "class ResetLearningRate(keras.callbacks.Callback):\n",
    "    #creates the variable used to hold the learning rate\n",
    "    lr= 0.0\n",
    "    #creates the variable to hold the previous batch accuracy\n",
    "    acc = 0.0\n",
    "    #on the beginning of the training...\n",
    "    def on_train_begin(self, logs={}):\n",
    "        #... sets the lr value to what the learning rate value is currently\n",
    "        lr = keras.backend.eval(self.optimizer.lr)\n",
    "    #at the end of the batch...\n",
    "    def on_batch_end(self, batch, logs={}):\n",
    "        #if the accuracy is equal to the previous batch's accuracy...\n",
    "        curacc = model.evalute()\n",
    "        if(acc == curacc['index of accuracy'])\n",
    "            #divide lr variable by 10, then\n",
    "            lr = lr/10\n",
    "            #set learning rate of model to lr\n",
    "            self.set_value(model.optimizer.lr, lr)\n",
    "        #update accuracy\n",
    "        acc = curacc['index of accuracy']\n",
    "        #testing code to see if this works, and to \n",
    "        #figure out what index is accuracy\n",
    "        print(model.metrics_names)\n",
    "        print(model.evaluate)\n",
    "\n",
    "rlr = ResetLearningRate()\n",
    "\n",
    "#when you model.compile, set callbacks to [rlr]"
   ]
  }
 ],
 "metadata": {
  "kernelspec": {
   "display_name": "Python 3",
   "language": "python",
   "name": "python3"
  },
  "language_info": {
   "codemirror_mode": {
    "name": "ipython",
    "version": 3
   },
   "file_extension": ".py",
   "mimetype": "text/x-python",
   "name": "python",
   "nbconvert_exporter": "python",
   "pygments_lexer": "ipython3",
   "version": "3.7.1"
  }
 },
 "nbformat": 4,
 "nbformat_minor": 2
}
